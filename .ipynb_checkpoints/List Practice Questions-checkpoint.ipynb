{
 "cells": [
  {
   "cell_type": "markdown",
   "id": "2b1499ae-5593-4342-91ba-88a9ddb7ea44",
   "metadata": {},
   "source": [
    "List Based Practice Problem :"
   ]
  },
  {
   "cell_type": "markdown",
   "id": "96e3b041-75b4-48af-b69c-4e35adcade2b",
   "metadata": {},
   "source": [
    "1. Create a list with integers from 1 to 10."
   ]
  },
  {
   "cell_type": "code",
   "execution_count": 1,
   "id": "51b9c966-b7f0-4967-86dd-a6e067e321b9",
   "metadata": {},
   "outputs": [
    {
     "name": "stdout",
     "output_type": "stream",
     "text": [
      "[1, 2, 3, 4, 5, 6, 7, 8, 9, 10]\n"
     ]
    }
   ],
   "source": [
    "integer_list = [i for i in range(1, 11)]\n",
    "print(integer_list) "
   ]
  },
  {
   "cell_type": "markdown",
   "id": "4381bfdc-8263-44ec-9a4b-9fbc9a79d841",
   "metadata": {},
   "source": [
    "2. Find the length of a list without using the `len()` function."
   ]
  },
  {
   "cell_type": "code",
   "execution_count": 2,
   "id": "359fe69a-affd-4461-bc97-4640f0bf5dac",
   "metadata": {},
   "outputs": [
    {
     "name": "stdout",
     "output_type": "stream",
     "text": [
      "Length of the list: 10\n"
     ]
    }
   ],
   "source": [
    "def custom_len(my_list):\n",
    "    count = 0\n",
    "    for _ in my_list:\n",
    "        count += 1\n",
    "    return count\n",
    "\n",
    "length = custom_len(integer_list)\n",
    "print(f\"Length of the list: {length}\")  "
   ]
  },
  {
   "cell_type": "markdown",
   "id": "1d48e1f8-d481-4c93-a580-a26c76478fd2",
   "metadata": {},
   "source": [
    "3. Append an element to the end of a list."
   ]
  },
  {
   "cell_type": "code",
   "execution_count": 3,
   "id": "1b90b093-bee1-4b29-97ee-feff131ca680",
   "metadata": {},
   "outputs": [
    {
     "name": "stdout",
     "output_type": "stream",
     "text": [
      "[1, 2, 3, 4, 5, 6, 7, 8, 9, 10, 11]\n"
     ]
    }
   ],
   "source": [
    "integer_list.append(11)\n",
    "print(integer_list)  "
   ]
  },
  {
   "cell_type": "markdown",
   "id": "b6dffe23-e735-46c4-bf08-576ad05cccef",
   "metadata": {},
   "source": [
    "4. Insert an element at a specific index in a list."
   ]
  },
  {
   "cell_type": "code",
   "execution_count": 4,
   "id": "a1ad51dc-c6f1-4d6f-ba54-335aaeb3b0c0",
   "metadata": {},
   "outputs": [
    {
     "name": "stdout",
     "output_type": "stream",
     "text": [
      "[1, 2, 3, 4, 5, 99, 6, 7, 8, 9, 10, 11]\n"
     ]
    }
   ],
   "source": [
    "integer_list.insert(5, 99)  # Insert 99 at index 5\n",
    "print(integer_list)  "
   ]
  },
  {
   "cell_type": "markdown",
   "id": "281e81f9-a376-4d2f-a355-c9446ccfb1a1",
   "metadata": {},
   "source": [
    "5. Remove an element from a list by its value."
   ]
  },
  {
   "cell_type": "code",
   "execution_count": 5,
   "id": "25e6554a-8a16-4d41-a72d-b647bf8c048b",
   "metadata": {},
   "outputs": [
    {
     "name": "stdout",
     "output_type": "stream",
     "text": [
      "[1, 2, 3, 4, 5, 6, 7, 8, 9, 10, 11]\n"
     ]
    }
   ],
   "source": [
    "integer_list.remove(99)\n",
    "print(integer_list)  "
   ]
  },
  {
   "cell_type": "markdown",
   "id": "3f76b327-7b8a-42fd-a95b-1ba41ca1e390",
   "metadata": {},
   "source": [
    "6. Remove an element from a list by its index."
   ]
  },
  {
   "cell_type": "code",
   "execution_count": 6,
   "id": "043c8124-a172-413e-b771-e327e8981e01",
   "metadata": {},
   "outputs": [
    {
     "name": "stdout",
     "output_type": "stream",
     "text": [
      "Removed element: 4\n",
      "[1, 2, 3, 5, 6, 7, 8, 9, 10, 11]\n"
     ]
    }
   ],
   "source": [
    "removed_element = integer_list.pop(3)  # Remove element at index 3\n",
    "print(f\"Removed element: {removed_element}\")\n",
    "print(integer_list)  "
   ]
  },
  {
   "cell_type": "markdown",
   "id": "08122e2f-6bff-4f7c-a157-d40ac38a6239",
   "metadata": {},
   "source": [
    "7. Check if an element exists in a list."
   ]
  },
  {
   "cell_type": "code",
   "execution_count": 7,
   "id": "15f9f9f7-0162-46e0-b4c4-ba984a57a5d3",
   "metadata": {},
   "outputs": [
    {
     "name": "stdout",
     "output_type": "stream",
     "text": [
      "7 exists in the list.\n"
     ]
    }
   ],
   "source": [
    "element_to_check = 7\n",
    "if element_to_check in integer_list:\n",
    "    print(f\"{element_to_check} exists in the list.\")\n",
    "else:\n",
    "    print(f\"{element_to_check} does not exist in the list.\")"
   ]
  },
  {
   "cell_type": "markdown",
   "id": "d75fd833-c98d-4d81-a71d-2c714cb38fdf",
   "metadata": {},
   "source": [
    "8. Find the index of the first occurrence of an element in a list."
   ]
  },
  {
   "cell_type": "code",
   "execution_count": 8,
   "id": "e5fde5dd-4bda-45bf-bd8c-ccff062d99ca",
   "metadata": {},
   "outputs": [
    {
     "name": "stdout",
     "output_type": "stream",
     "text": [
      "Index of 7: 5\n"
     ]
    }
   ],
   "source": [
    "index_of_7 = integer_list.index(7)\n",
    "print(f\"Index of 7: {index_of_7}\")"
   ]
  },
  {
   "cell_type": "markdown",
   "id": "551b7d89-fa8a-41a6-8c8b-0432787b7bf8",
   "metadata": {},
   "source": [
    "9. Count the occurrences of an element in a list."
   ]
  },
  {
   "cell_type": "code",
   "execution_count": 11,
   "id": "ca15e542-2325-4f3b-9f45-48de4513922b",
   "metadata": {},
   "outputs": [
    {
     "name": "stdout",
     "output_type": "stream",
     "text": [
      "Occurrences of 7: 1\n"
     ]
    }
   ],
   "source": [
    "count_of_7 = integer_list.count(7)\n",
    "print(f\"Occurrences of 7: {count_of_7}\")  "
   ]
  },
  {
   "cell_type": "markdown",
   "id": "b6e8ddf5-9790-499d-bce2-8a53334bb74c",
   "metadata": {},
   "source": [
    "10. Reverse the order of elements in a list."
   ]
  },
  {
   "cell_type": "code",
   "execution_count": 12,
   "id": "c89b15a5-7b2b-447f-88db-25b1583f7ade",
   "metadata": {},
   "outputs": [
    {
     "name": "stdout",
     "output_type": "stream",
     "text": [
      "[11, 10, 9, 8, 7, 6, 5, 3, 2, 1]\n"
     ]
    }
   ],
   "source": [
    "integer_list.reverse()\n",
    "print(integer_list)  "
   ]
  },
  {
   "cell_type": "markdown",
   "id": "4fde5ef3-f22c-44cd-9efb-1f84a7b8bf79",
   "metadata": {},
   "source": [
    "11. Sort a list in ascending order."
   ]
  },
  {
   "cell_type": "code",
   "execution_count": 1,
   "id": "d16276e2-b0d2-4ce5-aa2e-49d2d5de7ed5",
   "metadata": {},
   "outputs": [
    {
     "name": "stdout",
     "output_type": "stream",
     "text": [
      "[1, 2, 5, 7, 9]\n"
     ]
    }
   ],
   "source": [
    "my_list = [5, 2, 9, 1, 7]\n",
    "my_list.sort()  # In-place sorting\n",
    "print(my_list)  "
   ]
  },
  {
   "cell_type": "markdown",
   "id": "abbf4a8b-ea7e-4a37-bb41-f940e3e3924b",
   "metadata": {},
   "source": [
    "12. Sort a list in descending order."
   ]
  },
  {
   "cell_type": "code",
   "execution_count": 2,
   "id": "1aabae6a-deb9-454e-977d-aa2e67f95792",
   "metadata": {},
   "outputs": [
    {
     "name": "stdout",
     "output_type": "stream",
     "text": [
      "[9, 7, 5, 2, 1]\n"
     ]
    }
   ],
   "source": [
    "my_list.sort(reverse=True)\n",
    "print(my_list)  "
   ]
  },
  {
   "cell_type": "markdown",
   "id": "e5f252d1-e039-4b58-8534-94ab737b3cd1",
   "metadata": {},
   "source": [
    "13. Create a list of even numbers from 1 to 20."
   ]
  },
  {
   "cell_type": "code",
   "execution_count": 3,
   "id": "d059b2a0-0b90-4c61-92b8-79a14df38216",
   "metadata": {},
   "outputs": [
    {
     "name": "stdout",
     "output_type": "stream",
     "text": [
      "[2, 4, 6, 8, 10, 12, 14, 16, 18, 20]\n"
     ]
    }
   ],
   "source": [
    "even_numbers = [x for x in range(1, 21) if x % 2 == 0]\n",
    "print(even_numbers)  "
   ]
  },
  {
   "cell_type": "markdown",
   "id": "deb7de9b-a141-44f9-9191-ffe44be6db26",
   "metadata": {},
   "source": [
    "14. Create a list of odd numbers from 1 to 20."
   ]
  },
  {
   "cell_type": "code",
   "execution_count": 4,
   "id": "2db09538-dc4a-45ab-b3dc-4839e1e0b6ad",
   "metadata": {},
   "outputs": [
    {
     "name": "stdout",
     "output_type": "stream",
     "text": [
      "[1, 3, 5, 7, 9, 11, 13, 15, 17, 19]\n"
     ]
    }
   ],
   "source": [
    "odd_numbers = [x for x in range(1, 21) if x % 2 != 0]\n",
    "print(odd_numbers) "
   ]
  },
  {
   "cell_type": "markdown",
   "id": "b4af7e46-646f-4896-8078-f97326060633",
   "metadata": {},
   "source": [
    "15. Find the sum of all elements in a list."
   ]
  },
  {
   "cell_type": "code",
   "execution_count": 5,
   "id": "36cdb382-46eb-4e38-9d45-865e16f8bf45",
   "metadata": {},
   "outputs": [
    {
     "name": "stdout",
     "output_type": "stream",
     "text": [
      "Sum of elements: 24\n"
     ]
    }
   ],
   "source": [
    "total_sum = sum(my_list)\n",
    "print(f\"Sum of elements: {total_sum}\")"
   ]
  },
  {
   "cell_type": "markdown",
   "id": "87b55880-cc0b-4bbc-a3a7-34873779830b",
   "metadata": {},
   "source": [
    "16. Find the maximum value in a list."
   ]
  },
  {
   "cell_type": "code",
   "execution_count": 6,
   "id": "e19bb772-7b49-4c91-9a66-d344fcc2d33d",
   "metadata": {},
   "outputs": [
    {
     "name": "stdout",
     "output_type": "stream",
     "text": [
      "Maximum value: 9\n"
     ]
    }
   ],
   "source": [
    "max_value = max(my_list)\n",
    "print(f\"Maximum value: {max_value}\") "
   ]
  },
  {
   "cell_type": "markdown",
   "id": "98ce0e22-c350-49f2-aab3-97ca1faa5d56",
   "metadata": {},
   "source": [
    "17. Find the minimum value in a list."
   ]
  },
  {
   "cell_type": "code",
   "execution_count": 7,
   "id": "6d11e4c6-1860-4535-9726-8ecf4b4b17b8",
   "metadata": {},
   "outputs": [
    {
     "name": "stdout",
     "output_type": "stream",
     "text": [
      "Minimum value: 1\n"
     ]
    }
   ],
   "source": [
    "min_value = min(my_list)\n",
    "print(f\"Minimum value: {min_value}\") "
   ]
  },
  {
   "cell_type": "markdown",
   "id": "9b986748-c1b7-4516-85ce-58cd3ed844bd",
   "metadata": {},
   "source": [
    "18. Create a list of squares of numbers from 1 to 10."
   ]
  },
  {
   "cell_type": "code",
   "execution_count": 8,
   "id": "8efff52d-243e-4767-a3d9-8b1a6c2df6fc",
   "metadata": {},
   "outputs": [
    {
     "name": "stdout",
     "output_type": "stream",
     "text": [
      "[1, 4, 9, 16, 25, 36, 49, 64, 81, 100]\n"
     ]
    }
   ],
   "source": [
    "squares = [x ** 2 for x in range(1, 11)]\n",
    "print(squares) "
   ]
  },
  {
   "cell_type": "markdown",
   "id": "5d90fe57-c029-463f-8e4f-240c2b75cdbb",
   "metadata": {},
   "source": [
    "19. Create a list of random numbers."
   ]
  },
  {
   "cell_type": "code",
   "execution_count": 9,
   "id": "87babbf2-29a7-4828-8c9d-0c6a7a49739e",
   "metadata": {},
   "outputs": [
    {
     "name": "stdout",
     "output_type": "stream",
     "text": [
      "[40, 11, 11, 77, 39]\n"
     ]
    }
   ],
   "source": [
    "import random\n",
    "\n",
    "random_numbers = [random.randint(1, 100) for _ in range(5)]\n",
    "print(random_numbers)"
   ]
  },
  {
   "cell_type": "markdown",
   "id": "5d1d2c9c-dd55-4416-a0d8-572e245f50eb",
   "metadata": {},
   "source": [
    "20. Remove duplicates from a list."
   ]
  },
  {
   "cell_type": "code",
   "execution_count": 10,
   "id": "3f6401cd-97d0-4c05-ad72-f86b92409916",
   "metadata": {},
   "outputs": [
    {
     "name": "stdout",
     "output_type": "stream",
     "text": [
      "[1, 2, 3, 4, 5]\n"
     ]
    }
   ],
   "source": [
    "duplicate_list = [1, 2, 2, 3, 4, 4, 5]\n",
    "unique_list = list(set(duplicate_list))\n",
    "print(unique_list)  "
   ]
  },
  {
   "cell_type": "markdown",
   "id": "47913098-d0b8-472d-a114-d6ffd299e99c",
   "metadata": {},
   "source": [
    "21. Find the common elements between two lists."
   ]
  },
  {
   "cell_type": "code",
   "execution_count": 11,
   "id": "0d263bda-de88-4598-bf9b-3e32cfcd5388",
   "metadata": {},
   "outputs": [
    {
     "name": "stdout",
     "output_type": "stream",
     "text": [
      "[3, 4]\n"
     ]
    }
   ],
   "source": [
    "list1 = [1, 2, 3, 4]\n",
    "list2 = [3, 4, 5, 6]\n",
    "common_elements = list(set(list1) & set(list2))\n",
    "print(common_elements)  "
   ]
  },
  {
   "cell_type": "markdown",
   "id": "7a1a50bf-e990-443e-9462-009705634c5d",
   "metadata": {},
   "source": [
    "22. Find the difference between two lists."
   ]
  },
  {
   "cell_type": "code",
   "execution_count": 17,
   "id": "ed98570c-9ba0-4c87-b93b-5bdc2f3cd06f",
   "metadata": {},
   "outputs": [
    {
     "name": "stdout",
     "output_type": "stream",
     "text": [
      "Difference: [1, 2]\n"
     ]
    }
   ],
   "source": [
    "list1 = [1, 2, 3, 4, 5]\n",
    "list2 = [3, 4, 5, 6, 7]\n",
    "\n",
    "difference_set = set(list1) - set(list2)\n",
    "print(f\"Difference: {list(difference_set)}\")  "
   ]
  },
  {
   "cell_type": "markdown",
   "id": "a02f9b09-e182-4360-976b-450e802739d1",
   "metadata": {},
   "source": [
    "23. Merge two lists."
   ]
  },
  {
   "cell_type": "code",
   "execution_count": 13,
   "id": "81318091-1673-4f6c-9138-ef1b35abddf5",
   "metadata": {},
   "outputs": [
    {
     "name": "stdout",
     "output_type": "stream",
     "text": [
      "[1, 2, 3, 4, 5, 6]\n"
     ]
    }
   ],
   "source": [
    "list1 = [1, 2, 3]\n",
    "list2 = [4, 5, 6]\n",
    "merged_list = list1 + list2\n",
    "print(merged_list)  "
   ]
  },
  {
   "cell_type": "markdown",
   "id": "08fab3da-0bcd-45e4-b8ea-7871194ee000",
   "metadata": {},
   "source": [
    "24. Multiply all elements in a list by 2."
   ]
  },
  {
   "cell_type": "code",
   "execution_count": 14,
   "id": "3820d5f2-d970-4828-9131-04a0b4e09b18",
   "metadata": {},
   "outputs": [
    {
     "name": "stdout",
     "output_type": "stream",
     "text": [
      "[4, 8, 12, 16]\n"
     ]
    }
   ],
   "source": [
    "original_list = [2, 4, 6, 8]\n",
    "doubled_list = [x * 2 for x in original_list]\n",
    "print(doubled_list) "
   ]
  },
  {
   "cell_type": "markdown",
   "id": "b9d4de84-ace4-4caa-abbd-51b5d2fff56b",
   "metadata": {},
   "source": [
    "25. Filter out all even numbers from a list."
   ]
  },
  {
   "cell_type": "code",
   "execution_count": 15,
   "id": "58022b0e-992c-493d-abb7-41214e3998ad",
   "metadata": {},
   "outputs": [
    {
     "name": "stdout",
     "output_type": "stream",
     "text": [
      "[1, 3, 5, 7, 9]\n"
     ]
    }
   ],
   "source": [
    "numbers = [1, 2, 3, 4, 5, 6, 7, 8, 9]\n",
    "odd_numbers = [x for x in numbers if x % 2 != 0]\n",
    "print(odd_numbers)  "
   ]
  },
  {
   "cell_type": "markdown",
   "id": "5b7e25eb-f068-4386-a9f5-14b06d7dec25",
   "metadata": {},
   "source": [
    "26. Convert a list of strings to a list of integers."
   ]
  },
  {
   "cell_type": "code",
   "execution_count": 19,
   "id": "acda26f0-828a-44e9-b969-fd60cc3278bf",
   "metadata": {},
   "outputs": [
    {
     "name": "stdout",
     "output_type": "stream",
     "text": [
      "[1, 2, 3, 4, 5]\n"
     ]
    }
   ],
   "source": [
    "string_list = [\"1\", \"2\", \"3\", \"4\", \"5\"]\n",
    "integer_list = [int(x) for x in string_list]\n",
    "print(integer_list) "
   ]
  },
  {
   "cell_type": "markdown",
   "id": "f0dd7fe6-eb38-4bf7-982c-abdf1be01f7b",
   "metadata": {},
   "source": [
    "27. Convert a list of integers to a list of strings."
   ]
  },
  {
   "cell_type": "code",
   "execution_count": 20,
   "id": "15aa57c2-f8dc-4af3-a3dc-acce3238b534",
   "metadata": {},
   "outputs": [
    {
     "name": "stdout",
     "output_type": "stream",
     "text": [
      "['1', '2', '3', '4', '5']\n"
     ]
    }
   ],
   "source": [
    "integer_list = [1, 2, 3, 4, 5]\n",
    "string_list = [str(x) for x in integer_list]\n",
    "print(string_list)  "
   ]
  },
  {
   "cell_type": "markdown",
   "id": "13ce59a2-39f8-4121-b61d-03a750107c53",
   "metadata": {},
   "source": [
    "28. Flatten a nested list."
   ]
  },
  {
   "cell_type": "code",
   "execution_count": 21,
   "id": "f904c290-d54d-4d29-9f22-c62f075da553",
   "metadata": {},
   "outputs": [
    {
     "name": "stdout",
     "output_type": "stream",
     "text": [
      "[1, 2, 3, 4, 5, 6]\n"
     ]
    }
   ],
   "source": [
    "nested_list = [[1, 2], [3, 4], [5, 6]]\n",
    "flattened_list = [item for sublist in nested_list for item in sublist]\n",
    "print(flattened_list)  "
   ]
  },
  {
   "cell_type": "markdown",
   "id": "76623dfd-53af-47b1-a952-94cc2ebf3486",
   "metadata": {},
   "source": [
    "29. Create a list of the first 10 Fibonacci numbers."
   ]
  },
  {
   "cell_type": "code",
   "execution_count": 22,
   "id": "707121a1-d589-4563-9e7f-a29fa34f4e21",
   "metadata": {},
   "outputs": [
    {
     "name": "stdout",
     "output_type": "stream",
     "text": [
      "[0, 1, 1, 2, 3, 5, 8, 13, 21, 34]\n"
     ]
    }
   ],
   "source": [
    "def generate_fibonacci(n):\n",
    "    fib_list = [0, 1]\n",
    "    while len(fib_list) < n:\n",
    "        next_fib = fib_list[-1] + fib_list[-2]\n",
    "        fib_list.append(next_fib)\n",
    "    return fib_list\n",
    "\n",
    "first_10_fibonacci = generate_fibonacci(10)\n",
    "print(first_10_fibonacci) "
   ]
  },
  {
   "cell_type": "markdown",
   "id": "645f1270-eb30-448d-adbf-9acc50336594",
   "metadata": {},
   "source": [
    "30. Check if a list is sorted."
   ]
  },
  {
   "cell_type": "code",
   "execution_count": 23,
   "id": "593bf841-0359-481d-8d15-9e2137d565a4",
   "metadata": {},
   "outputs": [
    {
     "name": "stdout",
     "output_type": "stream",
     "text": [
      "True\n"
     ]
    }
   ],
   "source": [
    "def is_sorted(my_list):\n",
    "    return my_list == sorted(my_list)\n",
    "\n",
    "sample_list = [1, 3, 5, 7, 9]\n",
    "print(is_sorted(sample_list))  "
   ]
  },
  {
   "cell_type": "markdown",
   "id": "5fdef1db-4124-47f5-aed2-6647f6c00885",
   "metadata": {},
   "source": [
    "31. Rotate a list to the left by `n` positions."
   ]
  },
  {
   "cell_type": "code",
   "execution_count": 24,
   "id": "a5d69fe1-0c38-4913-8288-4cdb1230c8bd",
   "metadata": {},
   "outputs": [
    {
     "name": "stdout",
     "output_type": "stream",
     "text": [
      "[3, 4, 5, 1, 2]\n"
     ]
    }
   ],
   "source": [
    "def rotate_left(my_list, n):\n",
    "    return my_list[n:] + my_list[:n]\n",
    "\n",
    "original_list = [1, 2, 3, 4, 5]\n",
    "rotated_left = rotate_left(original_list, 2)\n",
    "print(rotated_left)  "
   ]
  },
  {
   "cell_type": "markdown",
   "id": "3491e70d-5913-4c89-bbd6-816d99e4555f",
   "metadata": {},
   "source": [
    "32. Rotate a list to the right by `n` positions."
   ]
  },
  {
   "cell_type": "code",
   "execution_count": 25,
   "id": "2ace6002-fddb-485e-89e7-9c919894010f",
   "metadata": {},
   "outputs": [
    {
     "name": "stdout",
     "output_type": "stream",
     "text": [
      "[4, 5, 1, 2, 3]\n"
     ]
    }
   ],
   "source": [
    "def rotate_right(my_list, n):\n",
    "    return my_list[-n:] + my_list[:-n]\n",
    "\n",
    "rotated_right = rotate_right(original_list, 2)\n",
    "print(rotated_right)  "
   ]
  },
  {
   "cell_type": "markdown",
   "id": "f49e4766-03af-45e2-9bd2-1f73189d5a37",
   "metadata": {},
   "source": [
    "33. Create a list of prime numbers up to 50."
   ]
  },
  {
   "cell_type": "code",
   "execution_count": 26,
   "id": "ef31d1e1-a480-4523-94be-34518ac2a852",
   "metadata": {},
   "outputs": [
    {
     "name": "stdout",
     "output_type": "stream",
     "text": [
      "[2, 3, 5, 7, 11, 13, 17, 19, 23, 29, 31, 37, 41, 43, 47]\n"
     ]
    }
   ],
   "source": [
    "def is_prime(num):\n",
    "    if num < 2:\n",
    "        return False\n",
    "    for i in range(2, int(num**0.5) + 1):\n",
    "        if num % i == 0:\n",
    "            return False\n",
    "    return True\n",
    "\n",
    "prime_numbers = [x for x in range(2, 51) if is_prime(x)]\n",
    "print(prime_numbers) "
   ]
  },
  {
   "cell_type": "markdown",
   "id": "da7cf211-1d8d-4016-9ec1-dbfa4a0dfe3a",
   "metadata": {},
   "source": [
    "34. Split a list into chunks of size `n`."
   ]
  },
  {
   "cell_type": "code",
   "execution_count": 1,
   "id": "141a0ef5-0811-4471-88ba-497cfbc28b3a",
   "metadata": {},
   "outputs": [
    {
     "name": "stdout",
     "output_type": "stream",
     "text": [
      "[[1, 2, 3], [4, 5, 6], [7, 8, 9], [10]]\n"
     ]
    }
   ],
   "source": [
    "def split_into_chunks(my_list, chunk_size):\n",
    "    return [my_list[i:i + chunk_size] for i in range(0, len(my_list), chunk_size)]\n",
    "\n",
    "original_list = [1, 2, 3, 4, 5, 6, 7, 8, 9, 10]\n",
    "chunked_list = split_into_chunks(original_list, 3)\n",
    "print(chunked_list)"
   ]
  },
  {
   "cell_type": "markdown",
   "id": "45717ab5-308f-4d92-aa2b-68e7dc57b437",
   "metadata": {},
   "source": [
    "35. Find the second largest number in a list."
   ]
  },
  {
   "cell_type": "code",
   "execution_count": 2,
   "id": "f28f2bf9-48fd-4e74-8641-be0018816532",
   "metadata": {},
   "outputs": [
    {
     "name": "stdout",
     "output_type": "stream",
     "text": [
      "The second largest number is: 10\n"
     ]
    }
   ],
   "source": [
    "def find_second_largest(my_list):\n",
    "    sorted_list = sorted(my_list)\n",
    "    return sorted_list[-2]\n",
    "\n",
    "numbers = [10, 5, 8, 3, 12, 7]\n",
    "second_largest = find_second_largest(numbers)\n",
    "print(f\"The second largest number is: {second_largest}\")  "
   ]
  },
  {
   "cell_type": "markdown",
   "id": "19107d0c-07ef-4909-b511-df64bd5d4a6d",
   "metadata": {},
   "source": [
    "36. Replace every element in a list with its square."
   ]
  },
  {
   "cell_type": "code",
   "execution_count": 3,
   "id": "a2d38c09-7a5d-4c31-921a-444b44ea67e9",
   "metadata": {},
   "outputs": [
    {
     "name": "stdout",
     "output_type": "stream",
     "text": [
      "Squared numbers: [1, 4, 9, 16, 25]\n"
     ]
    }
   ],
   "source": [
    "original_numbers = [1, 2, 3, 4, 5]\n",
    "squared_numbers = [x ** 2 for x in original_numbers]\n",
    "print(f\"Squared numbers: {squared_numbers}\")"
   ]
  },
  {
   "cell_type": "markdown",
   "id": "2daa8759-fc65-4c73-a985-0a06ba5bd7ab",
   "metadata": {},
   "source": [
    "37. Convert a list to a dictionary where list elements become keys and their indices become values.  "
   ]
  },
  {
   "cell_type": "code",
   "execution_count": 4,
   "id": "8078e335-6d2d-4660-8b4d-ab23d4d64533",
   "metadata": {},
   "outputs": [
    {
     "name": "stdout",
     "output_type": "stream",
     "text": [
      "Fruit dictionary: {'apple': 0, 'banana': 1, 'cherry': 2}\n"
     ]
    }
   ],
   "source": [
    "def list_to_dict(my_list):\n",
    "    return {element: index for index, element in enumerate(my_list)}\n",
    "\n",
    "fruits = [\"apple\", \"banana\", \"cherry\"]\n",
    "fruit_dict = list_to_dict(fruits)\n",
    "print(f\"Fruit dictionary: {fruit_dict}\")"
   ]
  },
  {
   "cell_type": "markdown",
   "id": "746c54be-3c81-4ac8-8a3f-295160ab3ccf",
   "metadata": {},
   "source": [
    "38. Shuffle the elements of a list randomly."
   ]
  },
  {
   "cell_type": "code",
   "execution_count": 5,
   "id": "f830bcd2-353c-461d-942d-461a8d1f74e4",
   "metadata": {},
   "outputs": [
    {
     "name": "stdout",
     "output_type": "stream",
     "text": [
      "Shuffled list: [4, 2, 1, 3, 5]\n"
     ]
    }
   ],
   "source": [
    "import random\n",
    "\n",
    "my_list = [1, 2, 3, 4, 5]\n",
    "random.shuffle(my_list)\n",
    "print(f\"Shuffled list: {my_list}\")  "
   ]
  },
  {
   "cell_type": "markdown",
   "id": "33da9b87-7a40-4250-8aea-0eaa553109d0",
   "metadata": {},
   "source": [
    "39. Create a list of the first 10 factorial numbers."
   ]
  },
  {
   "cell_type": "code",
   "execution_count": 6,
   "id": "20c9876e-70bc-4e91-96cf-142190f9f97e",
   "metadata": {},
   "outputs": [
    {
     "name": "stdout",
     "output_type": "stream",
     "text": [
      "Factorial numbers: [1, 1, 2, 6, 24, 120, 720, 5040, 40320, 362880]\n"
     ]
    }
   ],
   "source": [
    "def factorial(n):\n",
    "    if n == 0:\n",
    "        return 1\n",
    "    return n * factorial(n - 1)\n",
    "\n",
    "factorial_numbers = [factorial(i) for i in range(10)]\n",
    "print(f\"Factorial numbers: {factorial_numbers}\")"
   ]
  },
  {
   "cell_type": "markdown",
   "id": "77cae8de-27fb-4e88-a251-e009b31f8a57",
   "metadata": {},
   "source": [
    "40. Check if two lists have at least one element in common."
   ]
  },
  {
   "cell_type": "code",
   "execution_count": 1,
   "id": "3dc14e00-45c0-4bc9-a1a9-4700a7707555",
   "metadata": {},
   "outputs": [
    {
     "name": "stdout",
     "output_type": "stream",
     "text": [
      "The lists have at least one common element.\n"
     ]
    }
   ],
   "source": [
    "def have_common_elements(list1, list2):\n",
    "    return bool(set(list1) & set(list2))\n",
    "\n",
    "list_a = [1, 2, 3, 4]\n",
    "list_b = [3, 4, 5, 6]\n",
    "if have_common_elements(list_a, list_b):\n",
    "    print(\"The lists have at least one common element.\")\n",
    "else:\n",
    "    print(\"The lists do not have any common elements.\")"
   ]
  },
  {
   "cell_type": "markdown",
   "id": "fd4355af-8745-4684-8dfc-1b4bd163bcbe",
   "metadata": {},
   "source": [
    "41. Remove all elements from a list."
   ]
  },
  {
   "cell_type": "code",
   "execution_count": 3,
   "id": "0a73cca0-f46e-440f-acc4-a72f515b067c",
   "metadata": {},
   "outputs": [
    {
     "name": "stdout",
     "output_type": "stream",
     "text": [
      "[]\n"
     ]
    }
   ],
   "source": [
    "my_list = [10, 20, 30]\n",
    "my_list.clear()  # Clear the list\n",
    "print(my_list)  "
   ]
  },
  {
   "cell_type": "markdown",
   "id": "aa9e238e-6b55-4b52-a5ce-6136b21c6151",
   "metadata": {},
   "source": [
    "42. Replace negative numbers in a list with 0."
   ]
  },
  {
   "cell_type": "code",
   "execution_count": 4,
   "id": "463c0e41-73a6-48ce-9c70-141c384157a0",
   "metadata": {},
   "outputs": [
    {
     "name": "stdout",
     "output_type": "stream",
     "text": [
      "[10, 0, 8, 0, 12, 0]\n"
     ]
    }
   ],
   "source": [
    "numbers = [10, -5, 8, -3, 12, -7]\n",
    "non_negative_numbers = [max(0, x) for x in numbers]\n",
    "print(non_negative_numbers)  "
   ]
  },
  {
   "cell_type": "markdown",
   "id": "61315896-4f58-4c46-9340-b6316ae3f644",
   "metadata": {},
   "source": [
    "43. Convert a string into a list of words."
   ]
  },
  {
   "cell_type": "code",
   "execution_count": 5,
   "id": "621ff27f-703e-4c15-abd4-e0557e6e54ce",
   "metadata": {},
   "outputs": [
    {
     "name": "stdout",
     "output_type": "stream",
     "text": [
      "['Hello,', 'world!', 'How', 'are', 'you?']\n"
     ]
    }
   ],
   "source": [
    "sentence = \"Hello, world! How are you?\"\n",
    "word_list = sentence.split()\n",
    "print(word_list) "
   ]
  },
  {
   "cell_type": "markdown",
   "id": "849ad1c4-4877-4b9e-a615-f2d40c05146a",
   "metadata": {},
   "source": [
    "44. Convert a list of words into a string."
   ]
  },
  {
   "cell_type": "code",
   "execution_count": 6,
   "id": "7156cbdf-464b-48fa-a8b2-11011c3e0ed0",
   "metadata": {},
   "outputs": [
    {
     "name": "stdout",
     "output_type": "stream",
     "text": [
      "Hello world from Python\n"
     ]
    }
   ],
   "source": [
    "words = [\"Hello\", \"world\", \"from\", \"Python\"]\n",
    "separator = \" \"\n",
    "joined_string = separator.join(words)\n",
    "print(joined_string)  "
   ]
  },
  {
   "cell_type": "markdown",
   "id": "2b700544-28d2-4e80-81f6-cecd1ee926f4",
   "metadata": {},
   "source": [
    "45. Create a list of the first `n` powers of 2."
   ]
  },
  {
   "cell_type": "code",
   "execution_count": 7,
   "id": "798be39a-f41b-4e65-a7b8-c02d541055f5",
   "metadata": {},
   "outputs": [
    {
     "name": "stdout",
     "output_type": "stream",
     "text": [
      "[1, 2, 4, 8, 16]\n"
     ]
    }
   ],
   "source": [
    "def powers_of_2(n):\n",
    "    return [2 ** i for i in range(n)]\n",
    "\n",
    "first_5_powers = powers_of_2(5)\n",
    "print(first_5_powers)  "
   ]
  },
  {
   "cell_type": "markdown",
   "id": "bd19e43d-a0fa-43a3-bf26-65cae710a8b5",
   "metadata": {},
   "source": [
    "46. Find the longest string in a list of strings."
   ]
  },
  {
   "cell_type": "code",
   "execution_count": 8,
   "id": "c43d690c-210d-4174-9eea-5748ef9dead6",
   "metadata": {},
   "outputs": [
    {
     "name": "stdout",
     "output_type": "stream",
     "text": [
      "The longest string is: grapefruit\n"
     ]
    }
   ],
   "source": [
    "string_list = [\"apple\", \"banana\", \"cherry\", \"grapefruit\", \"kiwi\"]\n",
    "longest_string = max(string_list, key=len)\n",
    "print(f\"The longest string is: {longest_string}\")  "
   ]
  },
  {
   "cell_type": "markdown",
   "id": "e9a6fdec-57ab-4d99-b920-866a6d6db4c6",
   "metadata": {},
   "source": [
    "47. Find the shortest string in a list of strings."
   ]
  },
  {
   "cell_type": "code",
   "execution_count": 9,
   "id": "aa2affc3-680b-4a79-bbcf-7c3fee26ffab",
   "metadata": {},
   "outputs": [
    {
     "name": "stdout",
     "output_type": "stream",
     "text": [
      "The shortest string is: kiwi\n"
     ]
    }
   ],
   "source": [
    "shortest_string = min(string_list, key=len)\n",
    "print(f\"The shortest string is: {shortest_string}\")  "
   ]
  },
  {
   "cell_type": "markdown",
   "id": "f5085150-c69b-4ef3-bbe1-782ee93f68f5",
   "metadata": {},
   "source": [
    "48. Create a list of the first `n` triangular numbers."
   ]
  },
  {
   "cell_type": "code",
   "execution_count": 10,
   "id": "825383f8-c6c7-4f12-92c3-e0253195ac01",
   "metadata": {},
   "outputs": [
    {
     "name": "stdout",
     "output_type": "stream",
     "text": [
      "First 5 triangular numbers: [1, 3, 6, 10, 15]\n"
     ]
    }
   ],
   "source": [
    "def generate_triangular_numbers(n):\n",
    "    return [i * (i + 1) // 2 for i in range(1, n + 1)]\n",
    "\n",
    "first_5_triangular = generate_triangular_numbers(5)\n",
    "print(f\"First 5 triangular numbers: {first_5_triangular}\")  "
   ]
  },
  {
   "cell_type": "markdown",
   "id": "df4a6cb1-7d3d-481e-9f8d-bed46acaf7a6",
   "metadata": {},
   "source": [
    "49. Check if a list contains another list as a subsequence."
   ]
  },
  {
   "cell_type": "code",
   "execution_count": 1,
   "id": "4eb6147a-93d6-4280-8617-b00e22a761d6",
   "metadata": {},
   "outputs": [
    {
     "name": "stdout",
     "output_type": "stream",
     "text": [
      "List B is a subsequence of List A.\n"
     ]
    }
   ],
   "source": [
    "def is_subsequence(sublist, mainlist):\n",
    "    i, j = 0, 0\n",
    "    while i < len(sublist) and j < len(mainlist):\n",
    "        if sublist[i] == mainlist[j]:\n",
    "            i += 1\n",
    "        j += 1\n",
    "    return i == len(sublist)\n",
    "\n",
    "list_a = [1, 2, 3, 4, 5]\n",
    "list_b = [2, 4, 5]\n",
    "if is_subsequence(list_b, list_a):\n",
    "    print(\"List B is a subsequence of List A.\")\n",
    "else:\n",
    "    print(\"List B is not a subsequence of List A.\")"
   ]
  },
  {
   "cell_type": "markdown",
   "id": "92abfbfb-2f1a-4d05-8399-cced16875e5f",
   "metadata": {},
   "source": [
    "50. Swap two elements in a list by their indices."
   ]
  },
  {
   "cell_type": "code",
   "execution_count": 2,
   "id": "ba04bb2c-2746-469e-a5f1-00edc0ee7446",
   "metadata": {},
   "outputs": [
    {
     "name": "stdout",
     "output_type": "stream",
     "text": [
      "Swapped list: [10, 30, 20, 40]\n"
     ]
    }
   ],
   "source": [
    "def swap_elements(my_list, index1, index2):\n",
    "    my_list[index1], my_list[index2] = my_list[index2], my_list[index1]\n",
    "\n",
    "sample_list = [10, 20, 30, 40]\n",
    "swap_elements(sample_list, 1, 2)\n",
    "print(f\"Swapped list: {sample_list}\")  "
   ]
  },
  {
   "cell_type": "code",
   "execution_count": null,
   "id": "cf334449-4d19-4970-8261-1bda47c6c179",
   "metadata": {},
   "outputs": [],
   "source": []
  }
 ],
 "metadata": {
  "kernelspec": {
   "display_name": "Python 3 (ipykernel)",
   "language": "python",
   "name": "python3"
  },
  "language_info": {
   "codemirror_mode": {
    "name": "ipython",
    "version": 3
   },
   "file_extension": ".py",
   "mimetype": "text/x-python",
   "name": "python",
   "nbconvert_exporter": "python",
   "pygments_lexer": "ipython3",
   "version": "3.10.8"
  }
 },
 "nbformat": 4,
 "nbformat_minor": 5
}
