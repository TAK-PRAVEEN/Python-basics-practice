{
 "cells": [
  {
   "cell_type": "markdown",
   "id": "dc23aeeb-7000-44f7-98eb-b23d6f6b7f9b",
   "metadata": {},
   "source": [
    "Tuple Based Practice Problem :"
   ]
  },
  {
   "cell_type": "markdown",
   "id": "1f84a4fa-3482-43bc-8ebb-0742a5d59cc9",
   "metadata": {},
   "source": [
    "1. Create a tuple with integers from 1 to 5."
   ]
  },
  {
   "cell_type": "code",
   "execution_count": 1,
   "id": "b690df04-d2d9-4c47-a9c2-55fe119eea63",
   "metadata": {},
   "outputs": [
    {
     "name": "stdout",
     "output_type": "stream",
     "text": [
      "(1, 2, 3, 4, 5)\n"
     ]
    }
   ],
   "source": [
    "my_tuple = (1, 2, 3, 4, 5)\n",
    "print(my_tuple) "
   ]
  },
  {
   "cell_type": "markdown",
   "id": "f2b3de76-e588-40eb-9ebc-0f56c968011b",
   "metadata": {},
   "source": [
    "2. Access the third element of a tuple."
   ]
  },
  {
   "cell_type": "code",
   "execution_count": 2,
   "id": "00b6f632-ae0d-471e-a0ad-c5d9261adaac",
   "metadata": {},
   "outputs": [
    {
     "name": "stdout",
     "output_type": "stream",
     "text": [
      "The third element is: 3\n"
     ]
    }
   ],
   "source": [
    "third_element = my_tuple[2]\n",
    "print(f\"The third element is: {third_element}\")  # Output: 3"
   ]
  },
  {
   "cell_type": "markdown",
   "id": "ea5b5ac4-1340-4aac-ba5d-29054d008360",
   "metadata": {},
   "source": [
    "3. Find the length of a tuple without using the `len()` function."
   ]
  },
  {
   "cell_type": "code",
   "execution_count": 3,
   "id": "05c33ab8-f43c-440f-9ac5-2706fed6d189",
   "metadata": {},
   "outputs": [
    {
     "name": "stdout",
     "output_type": "stream",
     "text": [
      "Length of the tuple: 5\n"
     ]
    }
   ],
   "source": [
    "def custom_len(my_tuple):\n",
    "    count = 0\n",
    "    for _ in my_tuple:\n",
    "        count += 1\n",
    "    return count\n",
    "\n",
    "tuple_length = custom_len(my_tuple)\n",
    "print(f\"Length of the tuple: {tuple_length}\")  "
   ]
  },
  {
   "cell_type": "markdown",
   "id": "6789e77c-f4a7-46ed-a876-86d7bc2c21f1",
   "metadata": {},
   "source": [
    "4. Count the occurrences of an element in a tuple."
   ]
  },
  {
   "cell_type": "code",
   "execution_count": 6,
   "id": "79c3f2b9-4c15-4bfa-8d55-959df71fe29f",
   "metadata": {},
   "outputs": [
    {
     "name": "stdout",
     "output_type": "stream",
     "text": [
      "Occurrences of 3: 1\n"
     ]
    }
   ],
   "source": [
    "def count_occurrences(my_tuple, target_element):\n",
    "    count = 0\n",
    "    for item in my_tuple:\n",
    "        if item == target_element:\n",
    "            count += 1\n",
    "    return count\n",
    "\n",
    "target = 3\n",
    "occurrences = count_occurrences(my_tuple, target)\n",
    "print(f\"Occurrences of {target}: {occurrences}\")  "
   ]
  },
  {
   "cell_type": "markdown",
   "id": "6c6240b8-65d2-4334-a88d-b61f381155ca",
   "metadata": {},
   "source": [
    "5. Find the index of the first occurrence of an element in a tuple."
   ]
  },
  {
   "cell_type": "code",
   "execution_count": 7,
   "id": "faebbc84-d4e0-48b2-8b9f-c4baccb336d5",
   "metadata": {},
   "outputs": [
    {
     "name": "stdout",
     "output_type": "stream",
     "text": [
      "The index of 20 is: 1\n"
     ]
    }
   ],
   "source": [
    "my_tuple = (10, 20, 30, 40, 20)\n",
    "element_to_find = 20\n",
    "try:\n",
    "    index = my_tuple.index(element_to_find)\n",
    "    print(f\"The index of {element_to_find} is: {index}\") \n",
    "except ValueError:\n",
    "    print(f\"{element_to_find} is not in the tuple.\")"
   ]
  },
  {
   "cell_type": "markdown",
   "id": "1f8deb86-72ef-4731-b2d9-763b51332557",
   "metadata": {},
   "source": [
    "6. Check if an element exists in a tuple."
   ]
  },
  {
   "cell_type": "code",
   "execution_count": 8,
   "id": "66b0126a-3e9c-4631-b504-18cc3fc29227",
   "metadata": {},
   "outputs": [
    {
     "name": "stdout",
     "output_type": "stream",
     "text": [
      "30 exists in the tuple.\n"
     ]
    }
   ],
   "source": [
    "element_to_check = 30\n",
    "if element_to_check in my_tuple:\n",
    "    print(f\"{element_to_check} exists in the tuple.\")\n",
    "else:\n",
    "    print(f\"{element_to_check} does not exist in the tuple.\")"
   ]
  },
  {
   "cell_type": "markdown",
   "id": "94a82c5e-48ed-4514-aa7c-93a1781c39de",
   "metadata": {},
   "source": [
    "7. Convert a tuple to a list."
   ]
  },
  {
   "cell_type": "code",
   "execution_count": 10,
   "id": "fb939bfa-85b3-49f0-bc7b-0bad7fa92176",
   "metadata": {},
   "outputs": [
    {
     "name": "stdout",
     "output_type": "stream",
     "text": [
      "Converted list: [10, 20, 30, 40, 20]\n"
     ]
    }
   ],
   "source": [
    "my_list = list(my_tuple)\n",
    "print(f\"Converted list: {my_list}\")"
   ]
  },
  {
   "cell_type": "markdown",
   "id": "0583d60d-23e3-492a-8c8c-a083a52bf83d",
   "metadata": {},
   "source": [
    "8. Convert a list to a tuple."
   ]
  },
  {
   "cell_type": "code",
   "execution_count": 11,
   "id": "7cc09ea8-f350-4f82-96a5-4f2330054e2b",
   "metadata": {},
   "outputs": [
    {
     "name": "stdout",
     "output_type": "stream",
     "text": [
      "Converted tuple: (10, 20, 30, 40)\n"
     ]
    }
   ],
   "source": [
    "my_list = [10, 20, 30, 40]\n",
    "my_new_tuple = tuple(my_list)\n",
    "print(f\"Converted tuple: {my_new_tuple}\")"
   ]
  },
  {
   "cell_type": "markdown",
   "id": "50439fbe-fb80-44a6-b91a-dcfd5ae9cd55",
   "metadata": {},
   "source": [
    "9. Unpack the elements of a tuple into variables."
   ]
  },
  {
   "cell_type": "code",
   "execution_count": 12,
   "id": "85572307-2cb5-48e5-92a9-ee03ca9187cd",
   "metadata": {},
   "outputs": [
    {
     "name": "stdout",
     "output_type": "stream",
     "text": [
      "Unpacked variables: 10, 20, 30, 40, 20\n"
     ]
    }
   ],
   "source": [
    "a, b, c, d, e = my_tuple\n",
    "print(f\"Unpacked variables: {a}, {b}, {c}, {d}, {e}\")"
   ]
  },
  {
   "cell_type": "markdown",
   "id": "5d558134-4e74-4f64-901e-199a06bf0cc7",
   "metadata": {},
   "source": [
    "10. Create a tuple of even numbers from 1 to 10."
   ]
  },
  {
   "cell_type": "code",
   "execution_count": 13,
   "id": "7e368c66-d73d-4eaa-813d-86f0c4917622",
   "metadata": {},
   "outputs": [
    {
     "name": "stdout",
     "output_type": "stream",
     "text": [
      "Even numbers tuple: (2, 4, 6, 8, 10)\n"
     ]
    }
   ],
   "source": [
    "even_numbers_tuple = tuple(x for x in range(2, 11, 2))\n",
    "print(f\"Even numbers tuple: {even_numbers_tuple}\")"
   ]
  },
  {
   "cell_type": "markdown",
   "id": "1ecf0f78-6935-49cf-89a9-c026974ca992",
   "metadata": {},
   "source": [
    "11. Create a tuple of odd numbers from 1 to 10."
   ]
  },
  {
   "cell_type": "code",
   "execution_count": 14,
   "id": "53b00e5a-75d2-4d33-a9ce-9144db0cedff",
   "metadata": {},
   "outputs": [
    {
     "name": "stdout",
     "output_type": "stream",
     "text": [
      "Odd numbers tuple: (1, 3, 5, 7, 9)\n"
     ]
    }
   ],
   "source": [
    "odd_numbers_tuple = tuple(x for x in range(1, 11, 2))\n",
    "print(f\"Odd numbers tuple: {odd_numbers_tuple}\")"
   ]
  },
  {
   "cell_type": "markdown",
   "id": "3465b7ae-0a07-4f7a-9589-8c4182b81fb3",
   "metadata": {},
   "source": [
    "12. Concatenate two tuples."
   ]
  },
  {
   "cell_type": "code",
   "execution_count": 15,
   "id": "0dc1739e-d222-4f53-8322-f7218266e7f4",
   "metadata": {},
   "outputs": [
    {
     "name": "stdout",
     "output_type": "stream",
     "text": [
      "Concatenated tuple: (1, 2, 3, 4, 5, 6)\n"
     ]
    }
   ],
   "source": [
    "tuple1 = (1, 2, 3)\n",
    "tuple2 = (4, 5, 6)\n",
    "concatenated_tuple = tuple1 + tuple2\n",
    "print(f\"Concatenated tuple: {concatenated_tuple}\")"
   ]
  },
  {
   "cell_type": "markdown",
   "id": "ef75dff5-0615-4c71-a098-5e929f3687b2",
   "metadata": {},
   "source": [
    "13. Repeat a tuple three times."
   ]
  },
  {
   "cell_type": "code",
   "execution_count": 16,
   "id": "151af4b3-f932-4d90-9dd9-b75a6d531740",
   "metadata": {},
   "outputs": [
    {
     "name": "stdout",
     "output_type": "stream",
     "text": [
      "Repeated tuple: (10, 20, 30, 40, 20, 10, 20, 30, 40, 20, 10, 20, 30, 40, 20)\n"
     ]
    }
   ],
   "source": [
    "repeated_tuple = my_tuple * 3\n",
    "print(f\"Repeated tuple: {repeated_tuple}\")"
   ]
  },
  {
   "cell_type": "markdown",
   "id": "ee83fc96-be4f-43d4-819a-7bee6c5f412b",
   "metadata": {},
   "source": [
    "14. Check if a tuple is empty."
   ]
  },
  {
   "cell_type": "code",
   "execution_count": 17,
   "id": "2b042d12-b153-458f-b252-edc37f6f621d",
   "metadata": {},
   "outputs": [
    {
     "name": "stdout",
     "output_type": "stream",
     "text": [
      "The tuple is empty.\n"
     ]
    }
   ],
   "source": [
    "empty_tuple = ()\n",
    "if not empty_tuple:\n",
    "    print(\"The tuple is empty.\")\n",
    "else:\n",
    "    print(\"The tuple is not empty.\")"
   ]
  },
  {
   "cell_type": "markdown",
   "id": "77e58279-e87c-41de-9c31-a3340f84f69f",
   "metadata": {},
   "source": [
    "15. Create a nested tuple."
   ]
  },
  {
   "cell_type": "code",
   "execution_count": 18,
   "id": "cc33a008-d3cc-4623-a66b-76bb6e3347eb",
   "metadata": {},
   "outputs": [
    {
     "name": "stdout",
     "output_type": "stream",
     "text": [
      "Nested tuple: ((1, 2), (3, 4), (5, 6))\n"
     ]
    }
   ],
   "source": [
    "nested_tuple = ((1, 2), (3, 4), (5, 6))\n",
    "print(f\"Nested tuple: {nested_tuple}\")"
   ]
  },
  {
   "cell_type": "markdown",
   "id": "7e4859dc-f962-43e5-8b54-1be783b2146e",
   "metadata": {},
   "source": [
    "16. Access the first element of a nested tuple."
   ]
  },
  {
   "cell_type": "code",
   "execution_count": 20,
   "id": "7338fd64-bf7c-40a9-bbc8-88c41373d84a",
   "metadata": {},
   "outputs": [
    {
     "name": "stdout",
     "output_type": "stream",
     "text": [
      "The first element of the nested tuple is: (1, 2)\n"
     ]
    }
   ],
   "source": [
    "nested_tuple = ((1, 2), (3, 4), (5, 6))\n",
    "first_element = nested_tuple[0]\n",
    "print(f\"The first element of the nested tuple is: {first_element}\")"
   ]
  },
  {
   "cell_type": "markdown",
   "id": "08f4dd19-603d-4681-8477-8dbc521d8d58",
   "metadata": {},
   "source": [
    "17. Create a tuple with a single element."
   ]
  },
  {
   "cell_type": "code",
   "execution_count": 21,
   "id": "2e787e50-8ae2-4e7e-91c1-e0dedee33b51",
   "metadata": {},
   "outputs": [
    {
     "name": "stdout",
     "output_type": "stream",
     "text": [
      "A tuple with a single element: (42,)\n"
     ]
    }
   ],
   "source": [
    "single_element_tuple = (42,)\n",
    "print(f\"A tuple with a single element: {single_element_tuple}\")"
   ]
  },
  {
   "cell_type": "markdown",
   "id": "8b9a1b64-b9d9-43ed-8595-678fb8b4d77c",
   "metadata": {},
   "source": [
    "18. Compare two tuples."
   ]
  },
  {
   "cell_type": "code",
   "execution_count": 22,
   "id": "ab472f29-ee5b-4a43-b5ad-0cd90a3c3b44",
   "metadata": {},
   "outputs": [
    {
     "name": "stdout",
     "output_type": "stream",
     "text": [
      "The tuples are equal.\n"
     ]
    }
   ],
   "source": [
    "tuple1 = (1, 2, 3)\n",
    "tuple2 = (1, 2, 3)\n",
    "\n",
    "if tuple1 == tuple2:\n",
    "    print(\"The tuples are equal.\")\n",
    "else:\n",
    "    print(\"The tuples are not equal.\")"
   ]
  },
  {
   "cell_type": "markdown",
   "id": "a550bb60-2487-45af-bdbb-17a198512c92",
   "metadata": {},
   "source": [
    "19. Delete a tuple."
   ]
  },
  {
   "cell_type": "code",
   "execution_count": 23,
   "id": "3027b332-f5f6-405a-bdb5-90e1b66e9fe2",
   "metadata": {},
   "outputs": [],
   "source": [
    "my_tuple = (10, 20, 30)\n",
    "del my_tuple"
   ]
  },
  {
   "cell_type": "markdown",
   "id": "3c357154-755b-462f-a252-bd08aebc1307",
   "metadata": {},
   "source": [
    "20. Slice a tuple."
   ]
  },
  {
   "cell_type": "code",
   "execution_count": 24,
   "id": "8541c928-d9aa-4382-aabe-fe412150fb2b",
   "metadata": {},
   "outputs": [
    {
     "name": "stdout",
     "output_type": "stream",
     "text": [
      "Sliced tuple: (2, 3, 4)\n"
     ]
    }
   ],
   "source": [
    "original_tuple = (1, 2, 3, 4, 5)\n",
    "sliced_tuple = original_tuple[1:4]\n",
    "print(f\"Sliced tuple: {sliced_tuple}\")  "
   ]
  },
  {
   "cell_type": "markdown",
   "id": "eabeb7ac-f632-4b32-9f2d-2d714c871043",
   "metadata": {},
   "source": [
    "21. Find the maximum value in a tuple."
   ]
  },
  {
   "cell_type": "code",
   "execution_count": 25,
   "id": "b226510b-3c82-4795-9d74-af0c4750ae57",
   "metadata": {},
   "outputs": [
    {
     "name": "stdout",
     "output_type": "stream",
     "text": [
      "The maximum value in the tuple is: 50\n"
     ]
    }
   ],
   "source": [
    "my_tuple = (10, 20, 30, 40, 50)\n",
    "max_value = max(my_tuple)\n",
    "print(f\"The maximum value in the tuple is: {max_value}\")"
   ]
  },
  {
   "cell_type": "markdown",
   "id": "ced8557e-5bd0-4618-813a-90c832a0861f",
   "metadata": {},
   "source": [
    "22. Find the minimum value in a tuple."
   ]
  },
  {
   "cell_type": "code",
   "execution_count": 26,
   "id": "3504bfcd-ec41-473f-a02b-9b52d83dc208",
   "metadata": {},
   "outputs": [
    {
     "name": "stdout",
     "output_type": "stream",
     "text": [
      "The minimum value in the tuple is: 10\n"
     ]
    }
   ],
   "source": [
    "min_value = min(my_tuple)\n",
    "print(f\"The minimum value in the tuple is: {min_value}\")  "
   ]
  },
  {
   "cell_type": "markdown",
   "id": "42481da7-5f20-4e16-83d0-8417d4d77e84",
   "metadata": {},
   "source": [
    "23. Convert a string to a tuple of characters."
   ]
  },
  {
   "cell_type": "code",
   "execution_count": 27,
   "id": "f4cb7165-77a0-475c-989f-6fda24634ebb",
   "metadata": {},
   "outputs": [
    {
     "name": "stdout",
     "output_type": "stream",
     "text": [
      "Tuple of characters: ('H', 'e', 'l', 'l', 'o')\n"
     ]
    }
   ],
   "source": [
    "my_string = \"Hello\"\n",
    "char_tuple = tuple(my_string)\n",
    "print(f\"Tuple of characters: {char_tuple}\") "
   ]
  },
  {
   "cell_type": "markdown",
   "id": "d0bc8fef-b54d-4830-9c5a-96d2c63f35a5",
   "metadata": {},
   "source": [
    "24. Convert a tuple of characters to a string."
   ]
  },
  {
   "cell_type": "code",
   "execution_count": 28,
   "id": "ceaf9c61-cd8c-4397-81d9-35537baf3a61",
   "metadata": {},
   "outputs": [
    {
     "name": "stdout",
     "output_type": "stream",
     "text": [
      "Reconstructed string: Hello\n"
     ]
    }
   ],
   "source": [
    "reconstructed_string = \"\".join(char_tuple)\n",
    "print(f\"Reconstructed string: {reconstructed_string}\") "
   ]
  },
  {
   "cell_type": "markdown",
   "id": "4069e4dd-f536-443f-a8a1-b31bb5e250a6",
   "metadata": {},
   "source": [
    "25. Create a tuple from multiple data types."
   ]
  },
  {
   "cell_type": "code",
   "execution_count": 29,
   "id": "3e0e0cd1-17b6-4e43-82f8-2b134df9bb3a",
   "metadata": {},
   "outputs": [
    {
     "name": "stdout",
     "output_type": "stream",
     "text": [
      "Mixed data types tuple: (1, 'apple', 3.14, True)\n"
     ]
    }
   ],
   "source": [
    "mixed_tuple = (1, \"apple\", 3.14, True)\n",
    "print(f\"Mixed data types tuple: {mixed_tuple}\")"
   ]
  },
  {
   "cell_type": "markdown",
   "id": "749d87a7-97e1-4188-88a6-2e51692e7620",
   "metadata": {},
   "source": [
    "26. Check if two tuples are identical."
   ]
  },
  {
   "cell_type": "code",
   "execution_count": 30,
   "id": "3f237def-2cd4-43ad-9c85-1354aa12df4f",
   "metadata": {},
   "outputs": [
    {
     "name": "stdout",
     "output_type": "stream",
     "text": [
      "The tuples are identical.\n"
     ]
    }
   ],
   "source": [
    "tuple1 = (1, 2, 3)\n",
    "tuple2 = (1, 2, 3)\n",
    "\n",
    "if tuple1 == tuple2:\n",
    "    print(\"The tuples are identical.\")\n",
    "else:\n",
    "    print(\"The tuples are not identical.\")"
   ]
  },
  {
   "cell_type": "markdown",
   "id": "41185a5f-6eac-4797-84e2-23f83cd25622",
   "metadata": {},
   "source": [
    "27. Sort the elements of a tuple."
   ]
  },
  {
   "cell_type": "code",
   "execution_count": 31,
   "id": "99f25984-9466-4644-b3f6-2099ac5716fb",
   "metadata": {},
   "outputs": [
    {
     "name": "stdout",
     "output_type": "stream",
     "text": [
      "Sorted tuple: (10, 20, 30, 40, 50)\n"
     ]
    }
   ],
   "source": [
    "sorted_tuple = tuple(sorted(my_tuple))\n",
    "print(f\"Sorted tuple: {sorted_tuple}\")"
   ]
  },
  {
   "cell_type": "markdown",
   "id": "6606cb8b-039c-4c34-82df-e8627519aec1",
   "metadata": {},
   "source": [
    "28. Convert a tuple of integers to a tuple of strings."
   ]
  },
  {
   "cell_type": "code",
   "execution_count": 33,
   "id": "a9c6b6da-36c6-47cc-8b76-c78ca51799d9",
   "metadata": {},
   "outputs": [
    {
     "name": "stdout",
     "output_type": "stream",
     "text": [
      "Tuple of strings: ('10', '20', '30')\n"
     ]
    }
   ],
   "source": [
    "int_tuple = (10, 20, 30)\n",
    "str_tuple = tuple(str(x) for x in int_tuple)\n",
    "print(f\"Tuple of strings: {str_tuple}\")"
   ]
  },
  {
   "cell_type": "markdown",
   "id": "684a07e5-7418-4d9d-bd83-faff89d9e48b",
   "metadata": {},
   "source": [
    "29. Convert a tuple of strings to a tuple of integers."
   ]
  },
  {
   "cell_type": "code",
   "execution_count": 34,
   "id": "0d03dd52-27fe-4b03-8ed4-3d261aa2d9fd",
   "metadata": {},
   "outputs": [
    {
     "name": "stdout",
     "output_type": "stream",
     "text": [
      "Tuple of integers: (10, 20, 30)\n"
     ]
    }
   ],
   "source": [
    "str_numbers = (\"10\", \"20\", \"30\")\n",
    "int_numbers = tuple(int(x) for x in str_numbers)\n",
    "print(f\"Tuple of integers: {int_numbers}\")"
   ]
  },
  {
   "cell_type": "markdown",
   "id": "4fecb93b-aac4-42a4-ad3b-34e5adf8f024",
   "metadata": {},
   "source": [
    "30. Merge two tuples."
   ]
  },
  {
   "cell_type": "code",
   "execution_count": 35,
   "id": "a520421b-e404-4eb7-87f9-9141eb63fe28",
   "metadata": {},
   "outputs": [
    {
     "name": "stdout",
     "output_type": "stream",
     "text": [
      "Merged tuple: (1, 2, 3, 4, 5, 6)\n"
     ]
    }
   ],
   "source": [
    "tuple1 = (1, 2, 3)\n",
    "tuple2 = (4, 5, 6)\n",
    "merged_tuple = tuple1 + tuple2\n",
    "print(f\"Merged tuple: {merged_tuple}\") "
   ]
  },
  {
   "cell_type": "markdown",
   "id": "a291d53a-d24e-4c53-b6f7-34cf949b3780",
   "metadata": {},
   "source": [
    "31. Flatten a nested tuple."
   ]
  },
  {
   "cell_type": "code",
   "execution_count": 36,
   "id": "02f0d85f-1a39-4851-837b-3cfc5c5ea6a9",
   "metadata": {},
   "outputs": [
    {
     "name": "stdout",
     "output_type": "stream",
     "text": [
      "Flattened tuple: (1, 2, 3, 4, 5, 6)\n"
     ]
    }
   ],
   "source": [
    "nested_tuple = ((1, 2), (3, 4), (5, 6))\n",
    "flattened_tuple = tuple(item for sublist in nested_tuple for item in sublist)\n",
    "print(f\"Flattened tuple: {flattened_tuple}\")  "
   ]
  },
  {
   "cell_type": "markdown",
   "id": "5651fc3d-8e1e-452b-9fe6-74cf60177746",
   "metadata": {},
   "source": [
    "32. Create a tuple of the first 5 prime numbers."
   ]
  },
  {
   "cell_type": "code",
   "execution_count": 56,
   "id": "136c57b3-10e5-4f87-86cc-69bf0d75cec7",
   "metadata": {},
   "outputs": [
    {
     "name": "stdout",
     "output_type": "stream",
     "text": [
      "First 5 prime numbers tuple: (2, 3, 5, 7, 11)\n"
     ]
    }
   ],
   "source": [
    "def is_prime(num):\n",
    "    if num < 2:\n",
    "        return False\n",
    "    for i in range(2, int(num**0.5) + 1):\n",
    "        if num % i == 0:\n",
    "            return False\n",
    "    return True\n",
    "\n",
    "prime_numbers_tuple = tuple(x for x in range(2, 20) if is_prime(x))[:5]\n",
    "print(f\"First 5 prime numbers tuple: {prime_numbers_tuple}\")"
   ]
  },
  {
   "cell_type": "markdown",
   "id": "ea3f75ae-225d-45a7-b7ab-e84f87582fdd",
   "metadata": {},
   "source": [
    "33. Check if a tuple is a palindrome."
   ]
  },
  {
   "cell_type": "code",
   "execution_count": 39,
   "id": "ee6fd997-26ea-4c78-8e4d-ee13e0e73125",
   "metadata": {},
   "outputs": [
    {
     "name": "stdout",
     "output_type": "stream",
     "text": [
      "The tuple is a palindrome.\n"
     ]
    }
   ],
   "source": [
    "def is_palindrome(my_tuple):\n",
    "    return my_tuple == my_tuple[::-1]\n",
    "\n",
    "sample_palindrome = (1, 2, 3, 2, 1)\n",
    "if is_palindrome(sample_palindrome):\n",
    "    print(\"The tuple is a palindrome.\")\n",
    "else:\n",
    "    print(\"The tuple is not a palindrome.\")"
   ]
  },
  {
   "cell_type": "markdown",
   "id": "66044f1e-0903-4d6f-a71d-56e29d50c535",
   "metadata": {},
   "source": [
    "34. Create a tuple of squares of numbers from 1 to 5."
   ]
  },
  {
   "cell_type": "code",
   "execution_count": 40,
   "id": "dcf88b55-9ad7-4c08-8293-4f1d2ce3accb",
   "metadata": {},
   "outputs": [
    {
     "name": "stdout",
     "output_type": "stream",
     "text": [
      "Squares tuple: (1, 4, 9, 16, 25)\n"
     ]
    }
   ],
   "source": [
    "squares_tuple = tuple(x ** 2 for x in range(1, 6))\n",
    "print(f\"Squares tuple: {squares_tuple}\")  "
   ]
  },
  {
   "cell_type": "markdown",
   "id": "ea52258c-fe8e-48cf-baa0-f2c994f3b03e",
   "metadata": {},
   "source": [
    "35. Filter out all even numbers from a tuple."
   ]
  },
  {
   "cell_type": "code",
   "execution_count": 41,
   "id": "d65fd477-05b8-45f3-a92b-6a583c15db72",
   "metadata": {},
   "outputs": [
    {
     "name": "stdout",
     "output_type": "stream",
     "text": [
      "Odd numbers tuple: (1, 3, 5, 7, 9)\n"
     ]
    }
   ],
   "source": [
    "numbers_tuple = (1, 2, 3, 4, 5, 6, 7, 8, 9)\n",
    "odd_numbers_tuple = tuple(x for x in numbers_tuple if x % 2 != 0)\n",
    "print(f\"Odd numbers tuple: {odd_numbers_tuple}\")"
   ]
  },
  {
   "cell_type": "markdown",
   "id": "4a64fbc8-c4e3-46cc-8007-0e1c194a0eb0",
   "metadata": {},
   "source": [
    "36. Multiply all elements in a tuple by 2."
   ]
  },
  {
   "cell_type": "code",
   "execution_count": 42,
   "id": "64b0d093-d317-4baa-b626-ab1f7361170b",
   "metadata": {},
   "outputs": [
    {
     "name": "stdout",
     "output_type": "stream",
     "text": [
      "Doubled tuple: (20, 40, 60)\n"
     ]
    }
   ],
   "source": [
    "original_tuple = (10, 20, 30)\n",
    "doubled_tuple = tuple(x * 2 for x in original_tuple)\n",
    "print(f\"Doubled tuple: {doubled_tuple}\")"
   ]
  },
  {
   "cell_type": "markdown",
   "id": "d93cc8c3-286f-4e0c-8b75-452188c5c76d",
   "metadata": {},
   "source": [
    "37. Create a tuple of random numbers."
   ]
  },
  {
   "cell_type": "code",
   "execution_count": 57,
   "id": "3d23e574-083f-4ecb-ada4-cd6062099192",
   "metadata": {},
   "outputs": [
    {
     "name": "stdout",
     "output_type": "stream",
     "text": [
      "Random numbers tuple: (75, 59, 27, 11, 51)\n"
     ]
    }
   ],
   "source": [
    "import random\n",
    "\n",
    "random_numbers_tuple = tuple(random.randint(1, 100) for _ in range(5))\n",
    "print(f\"Random numbers tuple: {random_numbers_tuple}\")"
   ]
  },
  {
   "cell_type": "markdown",
   "id": "1a2d1984-9838-416e-8e2d-6ef52e55594e",
   "metadata": {},
   "source": [
    "38. Check if a tuple is sorted."
   ]
  },
  {
   "cell_type": "code",
   "execution_count": 58,
   "id": "c4cb26c7-3f95-4807-9f3b-85b836e4eb11",
   "metadata": {},
   "outputs": [
    {
     "name": "stdout",
     "output_type": "stream",
     "text": [
      "The tuple is sorted.\n"
     ]
    }
   ],
   "source": [
    "def is_sorted(my_tuple):\n",
    "    return my_tuple == tuple(sorted(my_tuple))\n",
    "\n",
    "sorted_tuple = (1, 2, 3, 4, 5)\n",
    "if is_sorted(sorted_tuple):\n",
    "    print(\"The tuple is sorted.\")\n",
    "else:\n",
    "    print(\"The tuple is not sorted.\")"
   ]
  },
  {
   "cell_type": "markdown",
   "id": "3c4e7f59-819e-4387-8e7d-d8a1206f5ae4",
   "metadata": {},
   "source": [
    "39. Rotate a tuple to the left by `n` positions."
   ]
  },
  {
   "cell_type": "code",
   "execution_count": 59,
   "id": "c6e03204-2b3d-4b79-99cc-eba42605e6cd",
   "metadata": {},
   "outputs": [
    {
     "name": "stdout",
     "output_type": "stream",
     "text": [
      "Rotated left tuple: (3, 4, 5, 1, 2)\n"
     ]
    }
   ],
   "source": [
    "def rotate_left(my_tuple, n):\n",
    "    return my_tuple[n:] + my_tuple[:n]\n",
    "\n",
    "original_tuple = (1, 2, 3, 4, 5)\n",
    "rotated_left_tuple = rotate_left(original_tuple, 2)\n",
    "print(f\"Rotated left tuple: {rotated_left_tuple}\")"
   ]
  },
  {
   "cell_type": "markdown",
   "id": "8a29c24b-1d3a-45e3-9ce3-217112d5cf3f",
   "metadata": {},
   "source": [
    "40. Rotate a tuple to the right by `n` positions."
   ]
  },
  {
   "cell_type": "code",
   "execution_count": 60,
   "id": "e90dab68-20ec-4e37-90b5-1dbe72dfb956",
   "metadata": {},
   "outputs": [
    {
     "name": "stdout",
     "output_type": "stream",
     "text": [
      "Rotated right tuple: (4, 5, 1, 2, 3)\n"
     ]
    }
   ],
   "source": [
    "def rotate_right(my_tuple, n):\n",
    "    return my_tuple[-n:] + my_tuple[:-n]\n",
    "\n",
    "rotated_right_tuple = rotate_right(original_tuple, 2)\n",
    "print(f\"Rotated right tuple: {rotated_right_tuple}\")"
   ]
  },
  {
   "cell_type": "markdown",
   "id": "a29efb42-4477-4b59-9f17-7016aee02e4b",
   "metadata": {},
   "source": [
    "41. Create a tuple of the first 5 Fibonacci numbers."
   ]
  },
  {
   "cell_type": "code",
   "execution_count": 61,
   "id": "37882059-e418-41de-8a03-3c37edf54b06",
   "metadata": {},
   "outputs": [
    {
     "name": "stdout",
     "output_type": "stream",
     "text": [
      "First 5 Fibonacci numbers tuple: (0, 1, 1, 2, 3)\n"
     ]
    }
   ],
   "source": [
    "def generate_fibonacci(n):\n",
    "    fib_list = [0, 1]\n",
    "    while len(fib_list) < n:\n",
    "        next_fib = fib_list[-1] + fib_list[-2]\n",
    "        fib_list.append(next_fib)\n",
    "    return tuple(fib_list)\n",
    "\n",
    "first_5_fibonacci = generate_fibonacci(5)\n",
    "print(f\"First 5 Fibonacci numbers tuple: {first_5_fibonacci}\")"
   ]
  },
  {
   "cell_type": "markdown",
   "id": "e2279044-5ec4-40b2-8063-bbc931e14647",
   "metadata": {},
   "source": [
    "42. Create a tuple from user input."
   ]
  },
  {
   "cell_type": "code",
   "execution_count": 62,
   "id": "6df1022a-5476-4ec8-a3ac-51eeb35783ff",
   "metadata": {},
   "outputs": [
    {
     "name": "stdin",
     "output_type": "stream",
     "text": [
      "Enter elements separated by commas:  1,2,3,5,6,4\n"
     ]
    },
    {
     "name": "stdout",
     "output_type": "stream",
     "text": [
      "User input tuple: ('1', '2', '3', '5', '6', '4')\n"
     ]
    }
   ],
   "source": [
    "def create_tuple_from_input():\n",
    "    user_input = input(\"Enter elements separated by commas: \")\n",
    "    elements = user_input.split(\",\")\n",
    "    my_tuple = tuple(elements)\n",
    "    return my_tuple\n",
    "\n",
    "user_tuple = create_tuple_from_input()\n",
    "print(f\"User input tuple: {user_tuple}\")"
   ]
  },
  {
   "cell_type": "markdown",
   "id": "342f736c-9815-41e6-b813-ab71a5a4aee5",
   "metadata": {},
   "source": [
    "43. Swap two elements in a tuple."
   ]
  },
  {
   "cell_type": "code",
   "execution_count": 63,
   "id": "c9f11a7e-996e-4c18-97c8-373843441a2a",
   "metadata": {},
   "outputs": [
    {
     "name": "stdout",
     "output_type": "stream",
     "text": [
      "Swapped tuple: (10, 30, 20, 40)\n"
     ]
    }
   ],
   "source": [
    "def swap_elements(my_tuple, index1, index2):\n",
    "    temp_list = list(my_tuple)\n",
    "    temp_list[index1], temp_list[index2] = temp_list[index2], temp_list[index1]\n",
    "    return tuple(temp_list)\n",
    "\n",
    "original_tuple = (10, 20, 30, 40)\n",
    "swapped_tuple = swap_elements(original_tuple, 1, 2)\n",
    "print(f\"Swapped tuple: {swapped_tuple}\")"
   ]
  },
  {
   "cell_type": "markdown",
   "id": "2a1beed2-849c-420c-9305-5d2ba8abfde7",
   "metadata": {},
   "source": [
    "44. Reverse the elements of a tuple."
   ]
  },
  {
   "cell_type": "code",
   "execution_count": 64,
   "id": "7ef16e5e-a728-4d8b-9d79-0a71d779d46f",
   "metadata": {},
   "outputs": [
    {
     "name": "stdout",
     "output_type": "stream",
     "text": [
      "Reversed tuple: (40, 30, 20, 10)\n"
     ]
    }
   ],
   "source": [
    "reversed_tuple = original_tuple[::-1]\n",
    "print(f\"Reversed tuple: {reversed_tuple}\")"
   ]
  },
  {
   "cell_type": "markdown",
   "id": "b4e8f135-22ab-445e-823c-1787fe12a7d8",
   "metadata": {},
   "source": [
    "45. Create a tuple of the first `n` powers of 2."
   ]
  },
  {
   "cell_type": "code",
   "execution_count": 65,
   "id": "eb024495-55fd-4fb3-8fe0-460b05905686",
   "metadata": {},
   "outputs": [
    {
     "name": "stdout",
     "output_type": "stream",
     "text": [
      "(1, 2, 4, 8, 16)\n"
     ]
    }
   ],
   "source": [
    "n = 5\n",
    "powers_of_2 = tuple(2**i for i in range(n))\n",
    "print(powers_of_2)"
   ]
  },
  {
   "cell_type": "markdown",
   "id": "a65307c7-28d8-4eba-b881-c0e7a5ddf52e",
   "metadata": {},
   "source": [
    "46. Find the longest string in a tuple of strings."
   ]
  },
  {
   "cell_type": "code",
   "execution_count": 66,
   "id": "4dfe6604-9db4-4532-8d16-0234b7aae0a1",
   "metadata": {},
   "outputs": [
    {
     "name": "stdout",
     "output_type": "stream",
     "text": [
      "banana\n"
     ]
    }
   ],
   "source": [
    "string_tuple = (\"apple\", \"banana\", \"cherry\", \"date\")\n",
    "longest_string = max(string_tuple, key=len)\n",
    "print(longest_string)"
   ]
  },
  {
   "cell_type": "markdown",
   "id": "1dd10371-4781-4530-b515-82345b154787",
   "metadata": {},
   "source": [
    "47. Find the shortest string in a tuple of strings."
   ]
  },
  {
   "cell_type": "code",
   "execution_count": 67,
   "id": "3dfdfed8-2a3e-452a-ba96-b97ec5b71888",
   "metadata": {},
   "outputs": [
    {
     "name": "stdout",
     "output_type": "stream",
     "text": [
      "date\n"
     ]
    }
   ],
   "source": [
    "shortest_string = min(string_tuple, key=len)\n",
    "print(shortest_string)"
   ]
  },
  {
   "cell_type": "markdown",
   "id": "d9d5f43a-542f-47e7-bdbe-6ea55b5ed240",
   "metadata": {},
   "source": [
    "48. Create a tuple of the first `n` triangular numbers."
   ]
  },
  {
   "cell_type": "code",
   "execution_count": 68,
   "id": "c06c0310-5337-426e-b92e-e67a640936ff",
   "metadata": {},
   "outputs": [
    {
     "name": "stdout",
     "output_type": "stream",
     "text": [
      "(1, 3, 6, 10, 15)\n"
     ]
    }
   ],
   "source": [
    "def triangular_number(n):\n",
    "    return n * (n + 1) // 2\n",
    "\n",
    "n = 5\n",
    "triangular_numbers = tuple(triangular_number(i) for i in range(1, n + 1))\n",
    "print(triangular_numbers)"
   ]
  },
  {
   "cell_type": "markdown",
   "id": "b506f693-8821-4365-aad0-8a7ca2a7f6f4",
   "metadata": {},
   "source": [
    "49. Check if a tuple contains another tuple as a subsequence."
   ]
  },
  {
   "cell_type": "code",
   "execution_count": 69,
   "id": "b0053d7d-fa42-434f-b8d3-28b695627f6a",
   "metadata": {},
   "outputs": [
    {
     "name": "stdout",
     "output_type": "stream",
     "text": [
      "False\n"
     ]
    }
   ],
   "source": [
    "main_tuple = (1, 2, 3, 4, 5)\n",
    "sub_tuple = (3, 4)\n",
    "\n",
    "is_subsequence = sub_tuple in main_tuple\n",
    "print(is_subsequence)  "
   ]
  },
  {
   "cell_type": "markdown",
   "id": "8e5bad03-ab42-4198-8815-b4306f6fb926",
   "metadata": {},
   "source": [
    "50. Create a tuple of alternating 1s and 0s of length `n`."
   ]
  },
  {
   "cell_type": "code",
   "execution_count": 70,
   "id": "e08ff388-87fa-4b6e-b5b0-a0ae6a4a6fb2",
   "metadata": {},
   "outputs": [
    {
     "name": "stdout",
     "output_type": "stream",
     "text": [
      "(1, 0, 1, 0, 1, 0)\n"
     ]
    }
   ],
   "source": [
    "n = 6\n",
    "alternating_tuple = tuple(1 if i % 2 == 0 else 0 for i in range(n))\n",
    "print(alternating_tuple)"
   ]
  },
  {
   "cell_type": "code",
   "execution_count": null,
   "id": "ae1f920f-f8f2-4ef2-852b-80bf8dcd287d",
   "metadata": {},
   "outputs": [],
   "source": []
  }
 ],
 "metadata": {
  "kernelspec": {
   "display_name": "Python 3 (ipykernel)",
   "language": "python",
   "name": "python3"
  },
  "language_info": {
   "codemirror_mode": {
    "name": "ipython",
    "version": 3
   },
   "file_extension": ".py",
   "mimetype": "text/x-python",
   "name": "python",
   "nbconvert_exporter": "python",
   "pygments_lexer": "ipython3",
   "version": "3.10.8"
  }
 },
 "nbformat": 4,
 "nbformat_minor": 5
}
