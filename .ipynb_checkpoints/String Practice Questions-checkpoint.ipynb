{
 "cells": [
  {
   "cell_type": "markdown",
   "id": "50e6734a-e17a-4912-a04a-3b5d7fb2d14b",
   "metadata": {},
   "source": [
    "TOPIC: String Based Assignment Problem"
   ]
  },
  {
   "cell_type": "markdown",
   "id": "0a0160a3-ad7d-4fda-b3f8-1945d1f2206f",
   "metadata": {},
   "source": [
    "1. Write a program to reverse a string."
   ]
  },
  {
   "cell_type": "code",
   "execution_count": 4,
   "id": "a9e68005-2317-4c0a-a39a-a14d0e35c90d",
   "metadata": {},
   "outputs": [
    {
     "name": "stdout",
     "output_type": "stream",
     "text": [
      "!dlrow ,olleH\n"
     ]
    }
   ],
   "source": [
    "def reverse_string(input_string):\n",
    "    return input_string[::-1]\n",
    "\n",
    "original_string = \"Hello, world!\"\n",
    "reversed_string = reverse_string(original_string)\n",
    "print(reversed_string) "
   ]
  },
  {
   "cell_type": "markdown",
   "id": "5087bbc7-37d5-4b83-9736-3392028f9364",
   "metadata": {},
   "source": [
    "2. Check if a string is a palindrome."
   ]
  },
  {
   "cell_type": "code",
   "execution_count": 5,
   "id": "22eaa5d3-686f-4789-ab02-9250873b7c85",
   "metadata": {},
   "outputs": [
    {
     "name": "stdout",
     "output_type": "stream",
     "text": [
      "True\n"
     ]
    }
   ],
   "source": [
    "def is_palindrome(input_string):\n",
    "    return input_string == input_string[::-1]\n",
    "\n",
    "test_string = \"racecar\"\n",
    "print(is_palindrome(test_string))"
   ]
  },
  {
   "cell_type": "markdown",
   "id": "762a2a88-e0b3-44d1-ab87-e93137fe95f1",
   "metadata": {},
   "source": [
    "3. Convert a string to uppercase."
   ]
  },
  {
   "cell_type": "code",
   "execution_count": 6,
   "id": "3370b683-ac5b-4377-a344-749c1a679e2b",
   "metadata": {},
   "outputs": [
    {
     "name": "stdout",
     "output_type": "stream",
     "text": [
      "HELLO, WORLD!\n"
     ]
    }
   ],
   "source": [
    "original_string = \"hello, world!\"\n",
    "uppercase_string = original_string.upper()\n",
    "print(uppercase_string)  "
   ]
  },
  {
   "cell_type": "markdown",
   "id": "37a161ac-7451-4846-9c63-56a5874b8ad9",
   "metadata": {},
   "source": [
    "4. Convert a string to lowercase."
   ]
  },
  {
   "cell_type": "code",
   "execution_count": 7,
   "id": "301aa43e-0a3a-48b6-8e4a-e8a9a8d0593c",
   "metadata": {},
   "outputs": [
    {
     "name": "stdout",
     "output_type": "stream",
     "text": [
      "hello, world!\n"
     ]
    }
   ],
   "source": [
    "original_string = \"Hello, World!\"\n",
    "lowercase_string = original_string.lower()\n",
    "print(lowercase_string) "
   ]
  },
  {
   "cell_type": "markdown",
   "id": "5b9f8269-a15a-4d8e-9d12-f6570f60cfa4",
   "metadata": {},
   "source": [
    "5. Count the number of vowels in a string."
   ]
  },
  {
   "cell_type": "code",
   "execution_count": 11,
   "id": "700e3fa2-5099-4fe7-9dd9-453c4e83ceb8",
   "metadata": {},
   "outputs": [
    {
     "name": "stdout",
     "output_type": "stream",
     "text": [
      "Vowels: 3\n"
     ]
    }
   ],
   "source": [
    "def count_vowels_and_consonants(input_string):\n",
    "    vowels = \"aeiouAEIOU\"\n",
    "    vowel_count = sum(1 for char in input_string if char in vowels)\n",
    "    consonant_count = len(input_string) - vowel_count\n",
    "    return vowel_count, consonant_count\n",
    "\n",
    "test_string = \"Hello, world!\"\n",
    "v_count, c_count = count_vowels_and_consonants(test_string)\n",
    "print(f\"Vowels: {v_count}\")"
   ]
  },
  {
   "cell_type": "markdown",
   "id": "2e292e2a-6783-4445-b9c7-c99744bce57b",
   "metadata": {},
   "source": [
    "6. Count the number of consonants in a string."
   ]
  },
  {
   "cell_type": "code",
   "execution_count": 14,
   "id": "56e1f173-6cd5-4c9c-a184-91149c7c09bc",
   "metadata": {},
   "outputs": [
    {
     "name": "stdout",
     "output_type": "stream",
     "text": [
      "Consonants: 10\n"
     ]
    }
   ],
   "source": [
    "def count_vowels_and_consonants(input_string):\n",
    "    vowels = \"aeiouAEIOU\"\n",
    "    vowel_count = sum(1 for char in input_string if char in vowels)\n",
    "    consonant_count = len(input_string) - vowel_count\n",
    "    return vowel_count, consonant_count\n",
    "\n",
    "test_string = \"Hello, world!\"\n",
    "v_count, c_count = count_vowels_and_consonants(test_string)\n",
    "print(f\"Consonants: {c_count}\")"
   ]
  },
  {
   "cell_type": "markdown",
   "id": "94bcaedc-e655-40f2-a4df-d38de5b36d81",
   "metadata": {},
   "source": [
    "7. Remove all whitespaces from a string."
   ]
  },
  {
   "cell_type": "code",
   "execution_count": 15,
   "id": "02c760b7-7a97-40ae-823b-4136da581cb5",
   "metadata": {},
   "outputs": [
    {
     "name": "stdout",
     "output_type": "stream",
     "text": [
      "Removespaces\n"
     ]
    }
   ],
   "source": [
    "original_string = \"  Remove   spaces  \"\n",
    "no_spaces_string = original_string.replace(\" \", \"\")\n",
    "print(no_spaces_string) "
   ]
  },
  {
   "cell_type": "markdown",
   "id": "2a3c821a-0ea0-4941-9cc3-af1b8f550ff9",
   "metadata": {},
   "source": [
    "8. Find the length of a string without using the `len()` function."
   ]
  },
  {
   "cell_type": "code",
   "execution_count": 10,
   "id": "26dcb843-4626-4f51-9615-d72b41660d15",
   "metadata": {},
   "outputs": [
    {
     "name": "stdout",
     "output_type": "stream",
     "text": [
      "13\n"
     ]
    }
   ],
   "source": [
    "def custom_len(input_string):\n",
    "    count = 0\n",
    "    for char in input_string:\n",
    "        count += 1\n",
    "    return count\n",
    "\n",
    "test_string = \"Hello, world!\"\n",
    "length = custom_len(test_string)\n",
    "print(length)"
   ]
  },
  {
   "cell_type": "markdown",
   "id": "cb78a2c9-12c5-4bcf-9511-e7ffb0d8effc",
   "metadata": {},
   "source": [
    "9. Check if a string contains a specific word."
   ]
  },
  {
   "cell_type": "code",
   "execution_count": 16,
   "id": "c9113f3e-89a6-4590-abd3-b534c66f5a9b",
   "metadata": {},
   "outputs": [
    {
     "name": "stdout",
     "output_type": "stream",
     "text": [
      "True\n"
     ]
    }
   ],
   "source": [
    "original_string = \"Python is amazing!\"\n",
    "word_to_check = \"amazing\"\n",
    "print(word_to_check in original_string) "
   ]
  },
  {
   "cell_type": "markdown",
   "id": "2c924bb9-780c-482e-8635-e3871393378b",
   "metadata": {},
   "source": [
    "10. Replace a word in a string with another word."
   ]
  },
  {
   "cell_type": "code",
   "execution_count": 18,
   "id": "74bfda09-4ff5-4dcd-b776-6db73a274d69",
   "metadata": {},
   "outputs": [
    {
     "name": "stdout",
     "output_type": "stream",
     "text": [
      "Hello, universe!\n"
     ]
    }
   ],
   "source": [
    "original_string = \"Hello, world!\"\n",
    "new_string = original_string.replace(\"world\", \"universe\")\n",
    "print(new_string)  "
   ]
  },
  {
   "cell_type": "markdown",
   "id": "fa5593e3-791a-41e8-b740-90524365743f",
   "metadata": {},
   "source": [
    "11. Count the occurrences of a word in a string."
   ]
  },
  {
   "cell_type": "code",
   "execution_count": 19,
   "id": "9d4913a1-1ebd-4736-b20c-31ed86a48e01",
   "metadata": {},
   "outputs": [
    {
     "name": "stdout",
     "output_type": "stream",
     "text": [
      "'wood' occurs 4 times.\n"
     ]
    }
   ],
   "source": [
    "original_string = \"How much wood would a woodchuck chuck if a woodchuck could chuck wood?\"\n",
    "word_to_count = \"wood\"\n",
    "occurrences = original_string.count(word_to_count)\n",
    "print(f\"'{word_to_count}' occurs {occurrences} times.\")"
   ]
  },
  {
   "cell_type": "markdown",
   "id": "3e876fdc-9fa6-492b-8d05-f2e702b3a92d",
   "metadata": {},
   "source": [
    "12. Find the first occurrence of a word in a string."
   ]
  },
  {
   "cell_type": "code",
   "execution_count": 20,
   "id": "5307e6e6-9ccc-4572-be5b-865c04a279ed",
   "metadata": {},
   "outputs": [
    {
     "name": "stdout",
     "output_type": "stream",
     "text": [
      "The first occurrence of 'Python' starts at index 0\n"
     ]
    }
   ],
   "source": [
    "original_string = \"Python is amazing, and Python is fun!\"\n",
    "target_word = \"Python\"\n",
    "first_occurrence_index = original_string.find(target_word)\n",
    "print(f\"The first occurrence of '{target_word}' starts at index {first_occurrence_index}\")"
   ]
  },
  {
   "cell_type": "markdown",
   "id": "282765ca-6fc5-4f08-86e9-96e8485dd390",
   "metadata": {},
   "source": [
    "13. Find the last occurrence of a word in a string."
   ]
  },
  {
   "cell_type": "code",
   "execution_count": 21,
   "id": "3690b64a-e622-45ca-8679-06502cf8cc93",
   "metadata": {},
   "outputs": [
    {
     "name": "stdout",
     "output_type": "stream",
     "text": [
      "The last occurrence of 'Python' starts at index 23\n"
     ]
    }
   ],
   "source": [
    "last_occurrence_index = original_string.rfind(target_word)\n",
    "print(f\"The last occurrence of '{target_word}' starts at index {last_occurrence_index}\")"
   ]
  },
  {
   "cell_type": "markdown",
   "id": "314dc1e3-5a2d-43be-ab14-d756fd015344",
   "metadata": {},
   "source": [
    "14. Split a string into a list of words."
   ]
  },
  {
   "cell_type": "code",
   "execution_count": 22,
   "id": "3f9fb62e-9617-4150-bfeb-6280e10ef1bb",
   "metadata": {},
   "outputs": [
    {
     "name": "stdout",
     "output_type": "stream",
     "text": [
      "['This', 'is', 'a', 'sample', 'sentence.']\n"
     ]
    }
   ],
   "source": [
    "sentence = \"This is a sample sentence.\"\n",
    "word_list = sentence.split()\n",
    "print(word_list)  "
   ]
  },
  {
   "cell_type": "markdown",
   "id": "e0b19be5-a16f-4111-b771-c948a7087213",
   "metadata": {},
   "source": [
    "15. Join a list of words into a string."
   ]
  },
  {
   "cell_type": "code",
   "execution_count": 23,
   "id": "5aaa277e-2e03-48ff-8878-2d1ef73df629",
   "metadata": {},
   "outputs": [
    {
     "name": "stdout",
     "output_type": "stream",
     "text": [
      "Hello world from Python\n"
     ]
    }
   ],
   "source": [
    "words = [\"Hello\", \"world\", \"from\", \"Python\"]\n",
    "separator = \" \"\n",
    "joined_string = separator.join(words)\n",
    "print(joined_string)  "
   ]
  },
  {
   "cell_type": "markdown",
   "id": "32f69c36-ecfc-46a1-929c-c99d310322b1",
   "metadata": {},
   "source": [
    "16. Convert a string where words are separated by spaces to one where words are separated by underscores."
   ]
  },
  {
   "cell_type": "code",
   "execution_count": 2,
   "id": "046c4673-1056-4aac-883d-028540517816",
   "metadata": {},
   "outputs": [
    {
     "name": "stdout",
     "output_type": "stream",
     "text": [
      "Hello_world_from_Python\n"
     ]
    }
   ],
   "source": [
    "original_string = \"Hello world from Python\"\n",
    "underscored_string = original_string.replace(\" \", \"_\")\n",
    "print(underscored_string)"
   ]
  },
  {
   "cell_type": "markdown",
   "id": "dfa6b454-41de-4e45-a28e-9f720a747cd4",
   "metadata": {},
   "source": [
    "17. Check if a string starts with a specific word or phrase."
   ]
  },
  {
   "cell_type": "code",
   "execution_count": 3,
   "id": "892d03d2-5e3a-4b83-8413-ae048cba197f",
   "metadata": {},
   "outputs": [
    {
     "name": "stdout",
     "output_type": "stream",
     "text": [
      "True\n"
     ]
    }
   ],
   "source": [
    "test_string = \"Welcome to Copilot!\"\n",
    "specific_word = \"Welcome\"\n",
    "print(test_string.startswith(specific_word)) "
   ]
  },
  {
   "cell_type": "markdown",
   "id": "67b41214-982d-4f39-94f3-4d35fbaef0fc",
   "metadata": {},
   "source": [
    "18. Check if a string ends with a specific word or phrase."
   ]
  },
  {
   "cell_type": "code",
   "execution_count": 4,
   "id": "5afce2c6-bcf2-4bdd-b598-2cccd03f4b61",
   "metadata": {},
   "outputs": [
    {
     "name": "stdout",
     "output_type": "stream",
     "text": [
      "True\n"
     ]
    }
   ],
   "source": [
    "print(test_string.endswith(\"Copilot!\")) "
   ]
  },
  {
   "cell_type": "markdown",
   "id": "b8c9c0e6-717d-4d78-bd55-0b66475b7c1a",
   "metadata": {},
   "source": [
    "19. Convert a string to title case (e.g., \"hello world\" to \"Hello World\")."
   ]
  },
  {
   "cell_type": "code",
   "execution_count": 5,
   "id": "1614f954-8286-41e0-9f19-f1e555a4eaab",
   "metadata": {},
   "outputs": [
    {
     "name": "stdout",
     "output_type": "stream",
     "text": [
      "Hello World\n"
     ]
    }
   ],
   "source": [
    "original_string = \"hello world\"\n",
    "title_case_string = original_string.title()\n",
    "print(title_case_string) "
   ]
  },
  {
   "cell_type": "markdown",
   "id": "f36b970b-3462-43c0-a792-2ff10eac8f8d",
   "metadata": {},
   "source": [
    "20. Find the longest word in a string."
   ]
  },
  {
   "cell_type": "code",
   "execution_count": 6,
   "id": "0d2e0645-5754-4ad6-b831-60c6d7baa367",
   "metadata": {},
   "outputs": [
    {
     "name": "stdout",
     "output_type": "stream",
     "text": [
      "The longest word is: versatile\n"
     ]
    }
   ],
   "source": [
    "def find_longest_word(input_string):\n",
    "    words = input_string.split()\n",
    "    return max(words, key=len)\n",
    "\n",
    "test_string = \"Python is amazing and versatile\"\n",
    "longest_word = find_longest_word(test_string)\n",
    "print(f\"The longest word is: {longest_word}\")  "
   ]
  },
  {
   "cell_type": "markdown",
   "id": "17153b29-252d-4823-8b4d-b4fdb7229af5",
   "metadata": {},
   "source": [
    "21. Find the shortest word in a string."
   ]
  },
  {
   "cell_type": "code",
   "execution_count": 7,
   "id": "f250f7a2-884f-4687-865a-f4bd9a2d29d7",
   "metadata": {},
   "outputs": [
    {
     "name": "stdout",
     "output_type": "stream",
     "text": [
      "The shortest word is: is\n"
     ]
    }
   ],
   "source": [
    "def find_shortest_word(input_string):\n",
    "    words = input_string.split()\n",
    "    return min(words, key=len)\n",
    "\n",
    "shortest_word = find_shortest_word(test_string)\n",
    "print(f\"The shortest word is: {shortest_word}\")  "
   ]
  },
  {
   "cell_type": "markdown",
   "id": "631295c3-2c65-4de3-8c0c-9837c6087004",
   "metadata": {},
   "source": [
    "22. Reverse the order of words in a string."
   ]
  },
  {
   "cell_type": "code",
   "execution_count": 9,
   "id": "a6ea3cb4-4f12-406d-b389-04717fac7edc",
   "metadata": {},
   "outputs": [
    {
     "name": "stdout",
     "output_type": "stream",
     "text": [
      "versatile and amazing is Python\n"
     ]
    }
   ],
   "source": [
    "reversed_words = \" \".join(test_string.split()[::-1])\n",
    "print(reversed_words)"
   ]
  },
  {
   "cell_type": "markdown",
   "id": "b7cd13a6-4e9b-46cc-ba23-0ca5b5d18d0d",
   "metadata": {},
   "source": [
    "23. Check if a string is alphanumeric."
   ]
  },
  {
   "cell_type": "code",
   "execution_count": 10,
   "id": "a500fa56-b888-45cd-ba29-c1244678aed3",
   "metadata": {},
   "outputs": [
    {
     "name": "stdout",
     "output_type": "stream",
     "text": [
      "True\n"
     ]
    }
   ],
   "source": [
    "alphanumeric_string = \"Python123\"\n",
    "print(alphanumeric_string.isalnum()) "
   ]
  },
  {
   "cell_type": "markdown",
   "id": "1fb1ea4f-9fbd-44fc-b3cf-384c48e94ca3",
   "metadata": {},
   "source": [
    "24. Extract all digits from a string."
   ]
  },
  {
   "cell_type": "code",
   "execution_count": 11,
   "id": "4e2b2386-d673-41f8-a9ea-0bc953f0ae36",
   "metadata": {},
   "outputs": [
    {
     "name": "stdout",
     "output_type": "stream",
     "text": [
      "123456\n"
     ]
    }
   ],
   "source": [
    "def extract_digits(input_string):\n",
    "    return \"\".join(char for char in input_string if char.isdigit())\n",
    "\n",
    "test_string = \"Hello123World456\"\n",
    "digits = extract_digits(test_string)\n",
    "print(digits)  "
   ]
  },
  {
   "cell_type": "markdown",
   "id": "35c31a14-117a-480b-a02d-68cacd8f8f81",
   "metadata": {},
   "source": [
    "25. Extract all alphabets from a string."
   ]
  },
  {
   "cell_type": "code",
   "execution_count": 14,
   "id": "1d12b424-08ec-4cc7-a331-413bb228c84f",
   "metadata": {},
   "outputs": [
    {
     "name": "stdout",
     "output_type": "stream",
     "text": [
      "HelloWorld\n"
     ]
    }
   ],
   "source": [
    "alphabets = \"\".join(char for char in test_string if char.isalpha())\n",
    "print(alphabets)  "
   ]
  },
  {
   "cell_type": "markdown",
   "id": "4a4adfe8-4397-42ae-82c8-ec96aae6d426",
   "metadata": {},
   "source": [
    "26. Count the number of uppercase letters in a string."
   ]
  },
  {
   "cell_type": "code",
   "execution_count": 15,
   "id": "28db4ccb-979d-4a06-a5dd-1d4228168e5d",
   "metadata": {},
   "outputs": [
    {
     "name": "stdout",
     "output_type": "stream",
     "text": [
      "Uppercase letters count: 2\n"
     ]
    }
   ],
   "source": [
    "uppercase_count = sum(1 for char in test_string if char.isupper())\n",
    "print(f\"Uppercase letters count: {uppercase_count}\")  "
   ]
  },
  {
   "cell_type": "markdown",
   "id": "294be89e-73e5-445f-bcb9-3f0fd2d04e47",
   "metadata": {},
   "source": [
    "27. Count the number of lowercase letters in a string."
   ]
  },
  {
   "cell_type": "code",
   "execution_count": 16,
   "id": "9034d162-2340-46fa-be65-0831cc97b247",
   "metadata": {},
   "outputs": [
    {
     "name": "stdout",
     "output_type": "stream",
     "text": [
      "Lowercase letters count: 8\n"
     ]
    }
   ],
   "source": [
    "lowercase_count = sum(1 for char in test_string if char.islower())\n",
    "print(f\"Lowercase letters count: {lowercase_count}\")"
   ]
  },
  {
   "cell_type": "markdown",
   "id": "1cca03b1-395c-4b42-9da7-e8ab2b2c1656",
   "metadata": {},
   "source": [
    "28. Swap the case of each character in a string."
   ]
  },
  {
   "cell_type": "code",
   "execution_count": 17,
   "id": "687951f0-2f39-4c8b-91ce-9bec3e45b7e2",
   "metadata": {},
   "outputs": [
    {
     "name": "stdout",
     "output_type": "stream",
     "text": [
      "hELLO123wORLD456\n"
     ]
    }
   ],
   "source": [
    "swapped_case_string = test_string.swapcase()\n",
    "print(swapped_case_string)  "
   ]
  },
  {
   "cell_type": "markdown",
   "id": "ddc212b9-85c4-4d9a-a773-2c9fc1a66c19",
   "metadata": {},
   "source": [
    "29. Remove a specific word from a string."
   ]
  },
  {
   "cell_type": "code",
   "execution_count": 18,
   "id": "3e116307-497f-49b8-8e7b-d00d6fbebda9",
   "metadata": {},
   "outputs": [
    {
     "name": "stdout",
     "output_type": "stream",
     "text": [
      " is amazing and  is fun!\n"
     ]
    }
   ],
   "source": [
    "original_sentence = \"Python is amazing and Python is fun!\"\n",
    "word_to_remove = \"Python\"\n",
    "without_word = original_sentence.replace(word_to_remove, \"\")\n",
    "print(without_word)"
   ]
  },
  {
   "cell_type": "markdown",
   "id": "3ce0e97f-23b0-48b5-9f16-74777edf27c5",
   "metadata": {},
   "source": [
    "30. Check if a string is a valid email address."
   ]
  },
  {
   "cell_type": "code",
   "execution_count": 19,
   "id": "21be92f7-3558-4123-93e5-49d799a24a6e",
   "metadata": {},
   "outputs": [
    {
     "name": "stdout",
     "output_type": "stream",
     "text": [
      "john.doe@example.com is a valid email address.\n"
     ]
    }
   ],
   "source": [
    "import re\n",
    "\n",
    "def is_valid_email(email):\n",
    "    # Regular expression pattern for a basic email address\n",
    "    pattern = r'^[a-zA-Z0-9._%+-]+@[a-zA-Z0-9.-]+\\.[a-zA-Z]{2,}$'\n",
    "    \n",
    "    # Check if the email matches the pattern\n",
    "    return re.match(pattern, email) is not None\n",
    "\n",
    "# Example usage\n",
    "test_email = \"john.doe@example.com\"\n",
    "if is_valid_email(test_email):\n",
    "    print(f\"{test_email} is a valid email address.\")\n",
    "else:\n",
    "    print(f\"{test_email} is NOT a valid email address.\")\n"
   ]
  },
  {
   "cell_type": "markdown",
   "id": "7c0531e9-73ce-44f8-ad3f-75305a779a5e",
   "metadata": {},
   "source": [
    "31. Extract the username from an email address string."
   ]
  },
  {
   "cell_type": "code",
   "execution_count": 20,
   "id": "7420b961-56ff-4618-95a9-0e846b6accc1",
   "metadata": {},
   "outputs": [
    {
     "name": "stdout",
     "output_type": "stream",
     "text": [
      "Username: john.doe\n"
     ]
    }
   ],
   "source": [
    "def extract_username(email):\n",
    "    return email.split(\"@\")[0]\n",
    "\n",
    "email_address = \"john.doe@example.com\"\n",
    "username = extract_username(email_address)\n",
    "print(f\"Username: {username}\")  "
   ]
  },
  {
   "cell_type": "markdown",
   "id": "c8e45b1d-e6f0-48ac-812e-143f496d7bbc",
   "metadata": {},
   "source": [
    "32. Extract the domain name from an email address string."
   ]
  },
  {
   "cell_type": "code",
   "execution_count": 21,
   "id": "790092e6-9822-4bad-9f06-d862b95bcfab",
   "metadata": {},
   "outputs": [
    {
     "name": "stdout",
     "output_type": "stream",
     "text": [
      "Domain: example.com\n"
     ]
    }
   ],
   "source": [
    "def extract_domain(email):\n",
    "    return email.split(\"@\")[1]\n",
    "\n",
    "domain = extract_domain(email_address)\n",
    "print(f\"Domain: {domain}\") "
   ]
  },
  {
   "cell_type": "markdown",
   "id": "d7d4037a-ec66-4054-bd90-b02ffcefade4",
   "metadata": {},
   "source": [
    "33. Replace multiple spaces in a string with a single space."
   ]
  },
  {
   "cell_type": "code",
   "execution_count": 22,
   "id": "692a771e-882c-4c8d-9bee-f97b2039d530",
   "metadata": {},
   "outputs": [
    {
     "name": "stdout",
     "output_type": "stream",
     "text": [
      "This is a test.\n"
     ]
    }
   ],
   "source": [
    "import re\n",
    "\n",
    "def replace_multiple_spaces(input_string):\n",
    "    return re.sub(r\"\\s+\", \" \", input_string)\n",
    "\n",
    "original_text = \"This    is   a   test.\"\n",
    "cleaned_text = replace_multiple_spaces(original_text)\n",
    "print(cleaned_text) "
   ]
  },
  {
   "cell_type": "markdown",
   "id": "b24b6cbb-87a2-4b17-9938-36ed60123164",
   "metadata": {},
   "source": [
    "34. Check if a string is a valid URL."
   ]
  },
  {
   "cell_type": "code",
   "execution_count": 23,
   "id": "4d8fd4c2-325c-4fb6-9139-a04d8efc47c2",
   "metadata": {},
   "outputs": [
    {
     "name": "stdout",
     "output_type": "stream",
     "text": [
      "True\n"
     ]
    }
   ],
   "source": [
    "from urllib.parse import urlparse\n",
    "\n",
    "def is_valid_url(url):\n",
    "    try:\n",
    "        result = urlparse(url)\n",
    "        return all([result.scheme, result.netloc])\n",
    "    except ValueError:\n",
    "        return False\n",
    "\n",
    "test_url = \"https://www.example.com\"\n",
    "print(is_valid_url(test_url))  "
   ]
  },
  {
   "cell_type": "markdown",
   "id": "5930af8f-0e4a-489a-bc09-100f57e9b020",
   "metadata": {},
   "source": [
    "35. Extract the protocol (http or https) from a URL string."
   ]
  },
  {
   "cell_type": "code",
   "execution_count": 24,
   "id": "994a6597-e9e5-48ec-9953-f76aa3d2b565",
   "metadata": {},
   "outputs": [
    {
     "name": "stdout",
     "output_type": "stream",
     "text": [
      "Protocol: https\n"
     ]
    }
   ],
   "source": [
    "def extract_protocol(url):\n",
    "    return urlparse(url).scheme\n",
    "\n",
    "protocol = extract_protocol(test_url)\n",
    "print(f\"Protocol: {protocol}\")  "
   ]
  },
  {
   "cell_type": "markdown",
   "id": "ad03c523-6910-4c5e-b3c3-76f78e89742d",
   "metadata": {},
   "source": [
    "36. Find the frequency of each character in a string."
   ]
  },
  {
   "cell_type": "code",
   "execution_count": 25,
   "id": "2f4ce5d0-bc04-4101-96d0-0fcfe9dcfba0",
   "metadata": {},
   "outputs": [
    {
     "name": "stdout",
     "output_type": "stream",
     "text": [
      "{'H': 1, 'e': 1, 'l': 3, 'o': 2, ',': 1, ' ': 1, 'w': 1, 'r': 1, 'd': 1, '!': 1}\n"
     ]
    }
   ],
   "source": [
    "def character_frequencies(input_string):\n",
    "    freq_dict = {}\n",
    "    for char in input_string:\n",
    "        freq_dict[char] = freq_dict.get(char, 0) + 1\n",
    "    return freq_dict\n",
    "\n",
    "sample_text = \"Hello, world!\"\n",
    "char_freqs = character_frequencies(sample_text)\n",
    "print(char_freqs)"
   ]
  },
  {
   "cell_type": "markdown",
   "id": "e97aa743-c18b-4034-8a17-550607d9d92c",
   "metadata": {},
   "source": [
    "37. Remove all punctuation from a string."
   ]
  },
  {
   "cell_type": "code",
   "execution_count": 26,
   "id": "32736040-abcb-42aa-a7e5-4158ff9677d5",
   "metadata": {},
   "outputs": [
    {
     "name": "stdout",
     "output_type": "stream",
     "text": [
      "Hello world How are you\n"
     ]
    }
   ],
   "source": [
    "import string\n",
    "\n",
    "def remove_punctuation(input_string):\n",
    "    return \"\".join(char for char in input_string if char not in string.punctuation)\n",
    "\n",
    "text_with_punctuation = \"Hello, world! How are you?\"\n",
    "clean_text = remove_punctuation(text_with_punctuation)\n",
    "print(clean_text)  "
   ]
  },
  {
   "cell_type": "markdown",
   "id": "18587e35-45f6-4199-8d8b-8c311dc9273c",
   "metadata": {},
   "source": [
    "38. Check if a string contains only digits."
   ]
  },
  {
   "cell_type": "code",
   "execution_count": 27,
   "id": "15bea7b4-a1b8-4721-9f0f-86e155153706",
   "metadata": {},
   "outputs": [
    {
     "name": "stdout",
     "output_type": "stream",
     "text": [
      "True\n"
     ]
    }
   ],
   "source": [
    "def contains_only_digits(input_string):\n",
    "    return input_string.isdigit()\n",
    "\n",
    "numeric_string = \"12345\"\n",
    "print(contains_only_digits(numeric_string))"
   ]
  },
  {
   "cell_type": "markdown",
   "id": "a2b72cb3-1599-4105-b2e5-8bbfb99b58dd",
   "metadata": {},
   "source": [
    "39. Check if a string contains only alphabets."
   ]
  },
  {
   "cell_type": "code",
   "execution_count": 29,
   "id": "4e48504e-1277-4e97-81c9-865922f4c964",
   "metadata": {},
   "outputs": [
    {
     "name": "stdout",
     "output_type": "stream",
     "text": [
      "True\n"
     ]
    }
   ],
   "source": [
    "def contains_only_alphabets(input_string):\n",
    "    return input_string.isalpha()\n",
    "\n",
    "alphabetic_string = \"HelloWorld\"\n",
    "print(contains_only_alphabets(alphabetic_string))"
   ]
  },
  {
   "cell_type": "markdown",
   "id": "46162109-cf5d-41f3-b171-22513586c633",
   "metadata": {},
   "source": [
    "40. Convert a string to a list of characters."
   ]
  },
  {
   "cell_type": "code",
   "execution_count": 30,
   "id": "95bf7210-af8c-425d-acd9-ec48e0c043f4",
   "metadata": {},
   "outputs": [
    {
     "name": "stdout",
     "output_type": "stream",
     "text": [
      "['P', 'y', 't', 'h', 'o', 'n']\n"
     ]
    }
   ],
   "source": [
    "original_string = \"Python\"\n",
    "char_list = list(original_string)\n",
    "print(char_list)  "
   ]
  },
  {
   "cell_type": "markdown",
   "id": "86232ea0-3d09-4aab-9609-e2ff898cd264",
   "metadata": {},
   "source": [
    "41. Check if two strings are anagrams."
   ]
  },
  {
   "cell_type": "code",
   "execution_count": 31,
   "id": "b6f9a4a5-1243-40c6-8c6e-8bac6d918a4e",
   "metadata": {},
   "outputs": [
    {
     "name": "stdout",
     "output_type": "stream",
     "text": [
      "'listen' and 'silent' are anagrams!\n"
     ]
    }
   ],
   "source": [
    "def are_anagrams(str1, str2):\n",
    "    return sorted(str1.lower()) == sorted(str2.lower())\n",
    "\n",
    "word1 = \"listen\"\n",
    "word2 = \"silent\"\n",
    "if are_anagrams(word1, word2):\n",
    "    print(f\"'{word1}' and '{word2}' are anagrams!\")\n",
    "else:\n",
    "    print(f\"'{word1}' and '{word2}' are not anagrams.\")"
   ]
  },
  {
   "cell_type": "markdown",
   "id": "2e0757a5-c3e1-4f26-964b-be26c559fbd3",
   "metadata": {},
   "source": [
    "42. Encode a string using a Caesar cipher."
   ]
  },
  {
   "cell_type": "code",
   "execution_count": 33,
   "id": "781fc9e3-82b0-4acc-975d-aa38b9f1b75f",
   "metadata": {},
   "outputs": [
    {
     "name": "stdout",
     "output_type": "stream",
     "text": [
      "Encoded: khoor zruog\n"
     ]
    }
   ],
   "source": [
    "def caesar_cipher_encode(text, shift):\n",
    "    result = \"\"\n",
    "    for char in text:\n",
    "        if char.isalpha():\n",
    "            base = ord(\"a\") if char.islower() else ord(\"A\")\n",
    "            shifted_char = chr((ord(char) - base + shift) % 26 + base)\n",
    "            result += shifted_char\n",
    "        else:\n",
    "            result += char\n",
    "    return result\n",
    "\n",
    "original_text = \"hello world\"\n",
    "shift_amount = 3\n",
    "encoded_text = caesar_cipher_encode(original_text, shift_amount)\n",
    "print(f\"Encoded: {encoded_text}\")"
   ]
  },
  {
   "cell_type": "markdown",
   "id": "0b1f69d5-aaa3-4d7a-9258-17fd9e0cda1f",
   "metadata": {},
   "source": [
    "43. Decode a Caesar cipher encoded string."
   ]
  },
  {
   "cell_type": "code",
   "execution_count": 34,
   "id": "1d56973c-8bd8-4915-ae4a-1f96fd633a6d",
   "metadata": {},
   "outputs": [
    {
     "name": "stdout",
     "output_type": "stream",
     "text": [
      "Decoded: hello world\n"
     ]
    }
   ],
   "source": [
    "def caesar_cipher_decode(encoded_text, shift):\n",
    "    return caesar_cipher_encode(encoded_text, -shift)\n",
    "\n",
    "decoded_text = caesar_cipher_decode(encoded_text, shift_amount)\n",
    "print(f\"Decoded: {decoded_text}\")"
   ]
  },
  {
   "cell_type": "markdown",
   "id": "8b88a381-4d2b-4761-acea-9a9893d09aea",
   "metadata": {},
   "source": [
    "44. Find the most frequent word in a string."
   ]
  },
  {
   "cell_type": "code",
   "execution_count": 35,
   "id": "1c4577fc-5386-4ddd-b556-127f934f6fa9",
   "metadata": {},
   "outputs": [
    {
     "name": "stdout",
     "output_type": "stream",
     "text": [
      "The most frequent word is: 'this'\n"
     ]
    }
   ],
   "source": [
    "import re\n",
    "from collections import Counter\n",
    "\n",
    "def most_frequent_word(text):\n",
    "    words = re.findall(r\"\\b\\w+\\b\", text.lower())\n",
    "    word_counts = Counter(words)\n",
    "    return word_counts.most_common(1)[0][0]\n",
    "\n",
    "sample_text = \"This is a test. Test this, please!\"\n",
    "most_common_word = most_frequent_word(sample_text)\n",
    "print(f\"The most frequent word is: '{most_common_word}'\")"
   ]
  },
  {
   "cell_type": "markdown",
   "id": "3dedf46f-e44b-4713-b5e3-14b7a8b481c3",
   "metadata": {},
   "source": [
    "45. Find all unique words in a string."
   ]
  },
  {
   "cell_type": "code",
   "execution_count": 36,
   "id": "9110ae77-c363-4807-9d0a-9c5f40594c6d",
   "metadata": {},
   "outputs": [
    {
     "name": "stdout",
     "output_type": "stream",
     "text": [
      "Unique words: this, is, please, test, a\n"
     ]
    }
   ],
   "source": [
    "def unique_words(text):\n",
    "    words = re.findall(r\"\\b\\w+\\b\", text.lower())\n",
    "    return set(words)\n",
    "\n",
    "unique_word_set = unique_words(sample_text)\n",
    "print(f\"Unique words: {', '.join(unique_word_set)}\")"
   ]
  },
  {
   "cell_type": "markdown",
   "id": "49e51cc7-b6cf-49e8-a236-9ffc76414a67",
   "metadata": {},
   "source": [
    "46. Count the number of syllables in a string."
   ]
  },
  {
   "cell_type": "code",
   "execution_count": 37,
   "id": "5741c6b8-3547-46c4-8d81-af10dc604daa",
   "metadata": {},
   "outputs": [
    {
     "name": "stdout",
     "output_type": "stream",
     "text": [
      "'syllable' has 3 syllables.\n"
     ]
    }
   ],
   "source": [
    "def count_syllables(word):\n",
    "    vowels = \"aeiouy\"\n",
    "    word = word.lower()\n",
    "    return sum(word.count(vowel) for vowel in vowels)\n",
    "\n",
    "test_word = \"syllable\"\n",
    "syllable_count = count_syllables(test_word)\n",
    "print(f\"'{test_word}' has {syllable_count} syllables.\")"
   ]
  },
  {
   "cell_type": "markdown",
   "id": "57146ca2-f031-4533-97f4-8c9deb692bb9",
   "metadata": {},
   "source": [
    "47. Check if a string contains any special characters."
   ]
  },
  {
   "cell_type": "code",
   "execution_count": 38,
   "id": "48bd515a-7c5b-424d-a582-b99710e0c6c2",
   "metadata": {},
   "outputs": [
    {
     "name": "stdout",
     "output_type": "stream",
     "text": [
      "'Hello, world! How are you?' contains special characters.\n"
     ]
    }
   ],
   "source": [
    "import re\n",
    "\n",
    "def contains_special_characters(input_string):\n",
    "    # Define a pattern for special characters (excluding alphanumeric)\n",
    "    pattern = r\"[^\\w\\s]\"\n",
    "    return bool(re.search(pattern, input_string))\n",
    "\n",
    "test_string = \"Hello, world! How are you?\"\n",
    "if contains_special_characters(test_string):\n",
    "    print(f\"'{test_string}' contains special characters.\")\n",
    "else:\n",
    "    print(f\"'{test_string}' does not contain special characters.\")"
   ]
  },
  {
   "cell_type": "markdown",
   "id": "9413d6a5-4bc7-4067-ad01-eabe6df59bd8",
   "metadata": {},
   "source": [
    "48. Remove the nth word from a string."
   ]
  },
  {
   "cell_type": "code",
   "execution_count": 39,
   "id": "d10dd5de-96b6-4985-961c-10e97902990e",
   "metadata": {},
   "outputs": [
    {
     "name": "stdout",
     "output_type": "stream",
     "text": [
      "Modified text: This is sample sentence.\n"
     ]
    }
   ],
   "source": [
    "def remove_nth_word(input_string, n):\n",
    "    words = input_string.split()\n",
    "    if 1 <= n <= len(words):\n",
    "        del words[n - 1]\n",
    "        return \" \".join(words)\n",
    "    else:\n",
    "        return input_string\n",
    "\n",
    "original_text = \"This is a sample sentence.\"\n",
    "n_to_remove = 3\n",
    "modified_text = remove_nth_word(original_text, n_to_remove)\n",
    "print(f\"Modified text: {modified_text}\")"
   ]
  },
  {
   "cell_type": "markdown",
   "id": "f25567ea-74eb-4720-a7fe-ba5ae97aca24",
   "metadata": {},
   "source": [
    "49. Insert a word at the nth position in a string."
   ]
  },
  {
   "cell_type": "code",
   "execution_count": 42,
   "id": "11f68207-3547-449c-9a63-6d83d6ea2d8b",
   "metadata": {},
   "outputs": [
    {
     "name": "stdout",
     "output_type": "stream",
     "text": [
      "Updated text: This new is a sample sentence.\n"
     ]
    }
   ],
   "source": [
    "def insert_word_at_position(input_string, word, n):\n",
    "    words = input_string.split()\n",
    "    if 1 <= n <= len(words) + 1:\n",
    "        words.insert(n - 1, word)\n",
    "        return \" \".join(words)\n",
    "    else:\n",
    "        return input_string\n",
    "\n",
    "updated_text = insert_word_at_position(original_text, \"new\", 2)\n",
    "print(f\"Updated text: {updated_text}\")"
   ]
  },
  {
   "cell_type": "markdown",
   "id": "c2249af7-af94-4d77-9990-49c2e6b03f94",
   "metadata": {},
   "source": [
    "50. Convert a CSV string to a list of lists."
   ]
  },
  {
   "cell_type": "code",
   "execution_count": 43,
   "id": "45ba6bac-5a38-4af2-8515-98091b129491",
   "metadata": {},
   "outputs": [
    {
     "name": "stdout",
     "output_type": "stream",
     "text": [
      "['Name', 'Age', 'Location']\n",
      "['Alice', '30', 'New York']\n",
      "['Bob', '25', 'Los Angeles']\n"
     ]
    }
   ],
   "source": [
    "def csv_string_to_list_of_lists(csv_string):\n",
    "    rows = csv_string.split(\"\\n\")\n",
    "    return [row.split(\",\") for row in rows]\n",
    "\n",
    "csv_data = \"Name,Age,Location\\nAlice,30,New York\\nBob,25,Los Angeles\"\n",
    "list_of_lists = csv_string_to_list_of_lists(csv_data)\n",
    "for row in list_of_lists:\n",
    "    print(row)"
   ]
  },
  {
   "cell_type": "code",
   "execution_count": null,
   "id": "41a17d4a-a3da-441f-a7f2-c7d1ecaeb107",
   "metadata": {},
   "outputs": [],
   "source": []
  }
 ],
 "metadata": {
  "kernelspec": {
   "display_name": "Python 3 (ipykernel)",
   "language": "python",
   "name": "python3"
  },
  "language_info": {
   "codemirror_mode": {
    "name": "ipython",
    "version": 3
   },
   "file_extension": ".py",
   "mimetype": "text/x-python",
   "name": "python",
   "nbconvert_exporter": "python",
   "pygments_lexer": "ipython3",
   "version": "3.10.8"
  }
 },
 "nbformat": 4,
 "nbformat_minor": 5
}
