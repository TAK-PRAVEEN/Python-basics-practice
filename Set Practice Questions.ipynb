{
 "cells": [
  {
   "cell_type": "markdown",
   "id": "45066589-6d31-4c75-bc43-a04527edacd6",
   "metadata": {},
   "source": [
    "Set Based Practice Problem :"
   ]
  },
  {
   "cell_type": "markdown",
   "id": "80380d14-040c-4607-8cb8-34a0f847a10b",
   "metadata": {},
   "source": [
    "1. Create a set with integers from 1 to 5."
   ]
  },
  {
   "cell_type": "code",
   "execution_count": 1,
   "id": "eb6ddd7c-d737-4bdd-a5ad-acf98c443fc8",
   "metadata": {},
   "outputs": [
    {
     "name": "stdout",
     "output_type": "stream",
     "text": [
      "{1, 2, 3, 4, 5}\n"
     ]
    }
   ],
   "source": [
    "my_set = {1, 2, 3, 4, 5}\n",
    "print(my_set)"
   ]
  },
  {
   "cell_type": "markdown",
   "id": "bcb12381-8549-41ec-a028-1fd7ed829228",
   "metadata": {},
   "source": [
    "2. Add an element to a set."
   ]
  },
  {
   "cell_type": "code",
   "execution_count": 2,
   "id": "d9a89246-93bc-4ad9-95f9-c747441fe169",
   "metadata": {},
   "outputs": [
    {
     "name": "stdout",
     "output_type": "stream",
     "text": [
      "{1, 2, 3, 4, 5, 6}\n"
     ]
    }
   ],
   "source": [
    "my_set.add(6)\n",
    "print(my_set)"
   ]
  },
  {
   "cell_type": "markdown",
   "id": "29b6abfd-9397-4416-b160-5c0586c0be4b",
   "metadata": {},
   "source": [
    "3. Remove an element from a set."
   ]
  },
  {
   "cell_type": "code",
   "execution_count": 3,
   "id": "c9b7be2f-030a-4ac4-ae15-61da657749c1",
   "metadata": {},
   "outputs": [
    {
     "name": "stdout",
     "output_type": "stream",
     "text": [
      "{1, 2, 4, 5, 6}\n"
     ]
    }
   ],
   "source": [
    "my_set.remove(3)  \n",
    "print(my_set)"
   ]
  },
  {
   "cell_type": "markdown",
   "id": "ba11af92-cca4-4745-aa27-e1146addd7bd",
   "metadata": {},
   "source": [
    "4. Check if an element exists in a set."
   ]
  },
  {
   "cell_type": "code",
   "execution_count": 4,
   "id": "cc14fc34-3243-438f-98ab-34a3a2902901",
   "metadata": {},
   "outputs": [
    {
     "name": "stdout",
     "output_type": "stream",
     "text": [
      "True\n"
     ]
    }
   ],
   "source": [
    "exists = 4 in my_set  \n",
    "print(exists)"
   ]
  },
  {
   "cell_type": "markdown",
   "id": "17cc3849-bf3f-41fb-ad64-357fc9fb9652",
   "metadata": {},
   "source": [
    "5. Find the length of a set without using the `len()` function."
   ]
  },
  {
   "cell_type": "code",
   "execution_count": 5,
   "id": "14bf835b-d925-4c79-af6c-cc9343d77b69",
   "metadata": {},
   "outputs": [
    {
     "name": "stdout",
     "output_type": "stream",
     "text": [
      "5\n"
     ]
    }
   ],
   "source": [
    "def custom_len(s):\n",
    "    count = 0\n",
    "    for _ in s:\n",
    "        count += 1\n",
    "    return count\n",
    "\n",
    "length = custom_len(my_set)\n",
    "print(length)"
   ]
  },
  {
   "cell_type": "markdown",
   "id": "5d3213db-4aa0-44a7-988b-032d662e91b6",
   "metadata": {},
   "source": [
    "6. Clear all elements from a set."
   ]
  },
  {
   "cell_type": "code",
   "execution_count": 6,
   "id": "feafe84d-a44f-4468-a002-b3f8792fb071",
   "metadata": {},
   "outputs": [
    {
     "name": "stdout",
     "output_type": "stream",
     "text": [
      "set()\n"
     ]
    }
   ],
   "source": [
    "my_set.clear()\n",
    "print(my_set)"
   ]
  },
  {
   "cell_type": "markdown",
   "id": "21516b95-a8c4-462f-a8fa-fe5e93fc04c2",
   "metadata": {},
   "source": [
    "7. Create a set of even numbers from 1 to 10."
   ]
  },
  {
   "cell_type": "code",
   "execution_count": 7,
   "id": "4e713277-4052-4f28-93b2-4fa157733213",
   "metadata": {},
   "outputs": [
    {
     "name": "stdout",
     "output_type": "stream",
     "text": [
      "{2, 4, 6, 8, 10}\n"
     ]
    }
   ],
   "source": [
    "even_set = {x for x in range(1, 11) if x % 2 == 0}\n",
    "print(even_set)"
   ]
  },
  {
   "cell_type": "markdown",
   "id": "8c7f25e3-ac7b-4b97-832d-ccf772c166a8",
   "metadata": {},
   "source": [
    "8. Create a set of odd numbers from 1 to 10."
   ]
  },
  {
   "cell_type": "code",
   "execution_count": 8,
   "id": "f28575af-2d96-4ebd-bc9c-f1e3cb435b17",
   "metadata": {},
   "outputs": [
    {
     "name": "stdout",
     "output_type": "stream",
     "text": [
      "{1, 3, 5, 7, 9}\n"
     ]
    }
   ],
   "source": [
    "odd_set = {x for x in range(1, 11) if x % 2 != 0}\n",
    "print(odd_set)"
   ]
  },
  {
   "cell_type": "markdown",
   "id": "42cc9da3-9d7d-4286-b91a-b2b9d3581350",
   "metadata": {},
   "source": [
    "9. Find the union of two sets."
   ]
  },
  {
   "cell_type": "code",
   "execution_count": 9,
   "id": "e51a3c9c-7f00-4ed0-9fd7-e109c28e9b99",
   "metadata": {},
   "outputs": [
    {
     "name": "stdout",
     "output_type": "stream",
     "text": [
      "{1, 2, 3, 4, 5}\n"
     ]
    }
   ],
   "source": [
    "set1 = {1, 2, 3}\n",
    "set2 = {3, 4, 5}\n",
    "union_set = set1 | set2\n",
    "print(union_set)"
   ]
  },
  {
   "cell_type": "markdown",
   "id": "0541a5f3-3552-4e0e-b363-99ea24637215",
   "metadata": {},
   "source": [
    "10. Find the intersection of two sets."
   ]
  },
  {
   "cell_type": "code",
   "execution_count": 10,
   "id": "a4d006c0-5409-4554-9677-8ebab9983300",
   "metadata": {},
   "outputs": [
    {
     "name": "stdout",
     "output_type": "stream",
     "text": [
      "{3}\n"
     ]
    }
   ],
   "source": [
    "intersection_set = set1 & set2\n",
    "print(intersection_set)"
   ]
  },
  {
   "cell_type": "markdown",
   "id": "ef4228f2-2673-4be5-941b-888891995b10",
   "metadata": {},
   "source": [
    "11. Find the difference between two sets."
   ]
  },
  {
   "cell_type": "code",
   "execution_count": 11,
   "id": "1159fef0-61af-4dfb-affa-d42e01fe55f3",
   "metadata": {},
   "outputs": [
    {
     "name": "stdout",
     "output_type": "stream",
     "text": [
      "{1, 2}\n"
     ]
    }
   ],
   "source": [
    "difference_set = set1 - set2\n",
    "print(difference_set)"
   ]
  },
  {
   "cell_type": "markdown",
   "id": "ea413abe-4081-4192-ae32-4d42e806323b",
   "metadata": {},
   "source": [
    "12. Check if a set is a subset of another set."
   ]
  },
  {
   "cell_type": "code",
   "execution_count": 12,
   "id": "881e49dd-ef90-4750-9f7a-f83db2585210",
   "metadata": {},
   "outputs": [
    {
     "name": "stdout",
     "output_type": "stream",
     "text": [
      "False\n"
     ]
    }
   ],
   "source": [
    "is_subset = set1.issubset(set2)\n",
    "print(is_subset)"
   ]
  },
  {
   "cell_type": "markdown",
   "id": "03181f6d-3702-4f6a-a841-a8bfb1a9912d",
   "metadata": {},
   "source": [
    "13. Check if a set is a superset of another set."
   ]
  },
  {
   "cell_type": "code",
   "execution_count": 13,
   "id": "2bd297e5-ddc6-4040-a9a5-366e62040482",
   "metadata": {},
   "outputs": [
    {
     "name": "stdout",
     "output_type": "stream",
     "text": [
      "False\n"
     ]
    }
   ],
   "source": [
    "is_superset = set1.issuperset(set2)\n",
    "print(is_superset)"
   ]
  },
  {
   "cell_type": "markdown",
   "id": "16043582-9d0e-430a-94bc-df11e2167626",
   "metadata": {},
   "source": [
    "14. Create a set from a list."
   ]
  },
  {
   "cell_type": "code",
   "execution_count": 14,
   "id": "49150591-64bd-44d6-bb5b-39735440d849",
   "metadata": {},
   "outputs": [
    {
     "name": "stdout",
     "output_type": "stream",
     "text": [
      "{1, 2, 3, 4, 5}\n"
     ]
    }
   ],
   "source": [
    "my_list = [1, 2, 3, 4, 5]\n",
    "list_to_set = set(my_list)\n",
    "print(list_to_set)"
   ]
  },
  {
   "cell_type": "markdown",
   "id": "3ee9d7a2-21a4-4264-a0ba-8c66f7ea966c",
   "metadata": {},
   "source": [
    "15. Convert a set to a list."
   ]
  },
  {
   "cell_type": "code",
   "execution_count": 16,
   "id": "74bf0544-3223-47b8-9f26-f8d92eaef192",
   "metadata": {},
   "outputs": [
    {
     "name": "stdout",
     "output_type": "stream",
     "text": [
      "[1, 2, 3, 4, 5]\n"
     ]
    }
   ],
   "source": [
    "set_to_list = list(list_to_set)\n",
    "print(set_to_list)"
   ]
  },
  {
   "cell_type": "markdown",
   "id": "89bca51f-d02f-46d8-b3a0-1d6b0ae2419b",
   "metadata": {},
   "source": [
    "16. Remove a random element from a set."
   ]
  },
  {
   "cell_type": "code",
   "execution_count": 17,
   "id": "05ddb683-da94-47ca-901c-3c2a81f1a78e",
   "metadata": {},
   "outputs": [
    {
     "name": "stdout",
     "output_type": "stream",
     "text": [
      "{2, 3, 4, 5}\n"
     ]
    }
   ],
   "source": [
    "my_set = {1, 2, 3, 4, 5}\n",
    "removed_element = my_set.pop()\n",
    "print(my_set)"
   ]
  },
  {
   "cell_type": "markdown",
   "id": "8905b1ce-4413-4b66-b284-648c5358d90b",
   "metadata": {},
   "source": [
    "17. Pop an element from a set."
   ]
  },
  {
   "cell_type": "code",
   "execution_count": 18,
   "id": "4d0f0191-b7c2-427b-8e05-c5bee4f4f38b",
   "metadata": {},
   "outputs": [
    {
     "name": "stdout",
     "output_type": "stream",
     "text": [
      "2\n"
     ]
    }
   ],
   "source": [
    "popped_element = my_set.pop()\n",
    "print(popped_element)"
   ]
  },
  {
   "cell_type": "markdown",
   "id": "3d2e74f0-e2a9-464e-bb98-9edd2dd98ef2",
   "metadata": {},
   "source": [
    "18. Check if two sets have no elements in common."
   ]
  },
  {
   "cell_type": "code",
   "execution_count": 19,
   "id": "a7dadd95-3bd4-4aa0-8b5e-1fbe9aba6cd9",
   "metadata": {},
   "outputs": [
    {
     "name": "stdout",
     "output_type": "stream",
     "text": [
      "True\n"
     ]
    }
   ],
   "source": [
    "set1 = {1, 2, 3}\n",
    "set2 = {4, 5, 6}\n",
    "no_common_elements = set1.isdisjoint(set2)  \n",
    "print(no_common_elements)"
   ]
  },
  {
   "cell_type": "markdown",
   "id": "ae7c7658-9579-4180-8a06-7b133bd5efe2",
   "metadata": {},
   "source": [
    "19. Find the symmetric difference between two sets."
   ]
  },
  {
   "cell_type": "code",
   "execution_count": 20,
   "id": "512fc8f1-f65d-44db-8e9d-71de5ff89bfc",
   "metadata": {},
   "outputs": [
    {
     "name": "stdout",
     "output_type": "stream",
     "text": [
      "{1, 2, 3, 4, 5, 6}\n"
     ]
    }
   ],
   "source": [
    "symmetric_diff = set1 ^ set2\n",
    "print(symmetric_diff)"
   ]
  },
  {
   "cell_type": "markdown",
   "id": "00067305-b7f7-4b9a-8302-af2f33ac7e6d",
   "metadata": {},
   "source": [
    "20. Update a set with elements from another set."
   ]
  },
  {
   "cell_type": "code",
   "execution_count": 21,
   "id": "88ccff15-9423-464a-95e4-9cfa8a0f0c8f",
   "metadata": {},
   "outputs": [
    {
     "name": "stdout",
     "output_type": "stream",
     "text": [
      "{1, 2, 3, 4, 5, 6}\n"
     ]
    }
   ],
   "source": [
    "set1.update(set2)\n",
    "print(set1)"
   ]
  },
  {
   "cell_type": "markdown",
   "id": "2ac543a4-edd1-4566-898d-b03d2fb51d4a",
   "metadata": {},
   "source": [
    "21. Create a set of the first 5 prime numbers."
   ]
  },
  {
   "cell_type": "code",
   "execution_count": 22,
   "id": "c49cdf9a-aa99-4762-b375-99165e6adba2",
   "metadata": {},
   "outputs": [
    {
     "name": "stdout",
     "output_type": "stream",
     "text": [
      "{2, 3, 5, 7, 11}\n"
     ]
    }
   ],
   "source": [
    "prime_numbers = {2, 3, 5, 7, 11}\n",
    "print(prime_numbers)"
   ]
  },
  {
   "cell_type": "markdown",
   "id": "a5b583e9-56fa-49b0-a172-468b1f2b71bd",
   "metadata": {},
   "source": [
    "22. Check if two sets are identical."
   ]
  },
  {
   "cell_type": "code",
   "execution_count": 23,
   "id": "a929ea8d-3158-438c-b314-6a0053d33a61",
   "metadata": {},
   "outputs": [
    {
     "name": "stdout",
     "output_type": "stream",
     "text": [
      "False\n"
     ]
    }
   ],
   "source": [
    "are_identical = set1 == set2\n",
    "print(are_identical)"
   ]
  },
  {
   "cell_type": "markdown",
   "id": "d9f9b0d5-21b0-49ac-817d-1bef89567140",
   "metadata": {},
   "source": [
    "23. Create a frozen set."
   ]
  },
  {
   "cell_type": "code",
   "execution_count": 24,
   "id": "10ed96c9-c372-4b86-8a53-23a90e668650",
   "metadata": {},
   "outputs": [
    {
     "name": "stdout",
     "output_type": "stream",
     "text": [
      "frozenset({1, 2, 3})\n"
     ]
    }
   ],
   "source": [
    "frozen_set = frozenset([1, 2, 3])\n",
    "print(frozen_set)"
   ]
  },
  {
   "cell_type": "markdown",
   "id": "d472ca14-ab37-4759-b723-8138b59596a7",
   "metadata": {},
   "source": [
    "24. Check if a set is disjoint with another set."
   ]
  },
  {
   "cell_type": "code",
   "execution_count": 27,
   "id": "20d18482-13c7-4b50-ba90-da7f8cc34521",
   "metadata": {},
   "outputs": [
    {
     "name": "stdout",
     "output_type": "stream",
     "text": [
      "True\n"
     ]
    }
   ],
   "source": [
    "set1 = {1, 2, 3}\n",
    "set2 = {4, 5, 6}\n",
    "no_common_elements = set1.isdisjoint(set2)  \n",
    "print(no_common_elements)"
   ]
  },
  {
   "cell_type": "markdown",
   "id": "7d06452a-eac5-43e7-bd14-7804d2fdc7cd",
   "metadata": {},
   "source": [
    "25. Create a set of squares of numbers from 1 to 5."
   ]
  },
  {
   "cell_type": "code",
   "execution_count": 26,
   "id": "4b1513f4-b0af-430c-b02a-f9b19548f413",
   "metadata": {},
   "outputs": [
    {
     "name": "stdout",
     "output_type": "stream",
     "text": [
      "{1, 4, 9, 16, 25}\n"
     ]
    }
   ],
   "source": [
    "squares_set = {x**2 for x in range(1, 6)}\n",
    "print(squares_set)"
   ]
  },
  {
   "cell_type": "markdown",
   "id": "81164c6d-dac1-495b-b99f-a3d71887c26d",
   "metadata": {},
   "source": [
    "26. Filter out all even numbers from a set."
   ]
  },
  {
   "cell_type": "code",
   "execution_count": 28,
   "id": "2dd422fb-3b58-4fc1-b8bb-bb9c938c5dba",
   "metadata": {},
   "outputs": [
    {
     "name": "stdout",
     "output_type": "stream",
     "text": [
      "{3, 5}\n"
     ]
    }
   ],
   "source": [
    "odd_set = {x for x in my_set if x % 2 != 0}\n",
    "print(odd_set)"
   ]
  },
  {
   "cell_type": "markdown",
   "id": "92586dc5-a493-419b-8f75-fa20a94845ef",
   "metadata": {},
   "source": [
    "27. Multiply all elements in a set by 2."
   ]
  },
  {
   "cell_type": "code",
   "execution_count": 30,
   "id": "a913fadd-f10f-46fa-9ebe-b54c1ea04226",
   "metadata": {},
   "outputs": [
    {
     "name": "stdout",
     "output_type": "stream",
     "text": [
      "{8, 10, 6}\n"
     ]
    }
   ],
   "source": [
    "multiplied_set = {x * 2 for x in my_set}\n",
    "print(multiplied_set)"
   ]
  },
  {
   "cell_type": "markdown",
   "id": "37c15f8e-91e0-47ba-be9c-cee0b5375070",
   "metadata": {},
   "source": [
    "28. Create a set of random numbers."
   ]
  },
  {
   "cell_type": "code",
   "execution_count": 31,
   "id": "1f68f455-4164-4f60-ba7c-2b0d937dfbb2",
   "metadata": {},
   "outputs": [
    {
     "name": "stdout",
     "output_type": "stream",
     "text": [
      "{17, 42, 3, 9}\n"
     ]
    }
   ],
   "source": [
    "random_numbers = set([42, 17, 9, 3])\n",
    "print(random_numbers)"
   ]
  },
  {
   "cell_type": "markdown",
   "id": "7ffc4682-67bb-40e5-9c90-241b84867c27",
   "metadata": {},
   "source": [
    "29. Check if a set is empty."
   ]
  },
  {
   "cell_type": "code",
   "execution_count": 32,
   "id": "df061b80-c6dc-4c5f-bf50-4f25242a412d",
   "metadata": {},
   "outputs": [
    {
     "name": "stdout",
     "output_type": "stream",
     "text": [
      "False\n"
     ]
    }
   ],
   "source": [
    "is_empty = len(my_set) == 0\n",
    "print(is_empty)"
   ]
  },
  {
   "cell_type": "markdown",
   "id": "3257ac4e-953a-487c-914f-59f2f3944d05",
   "metadata": {},
   "source": [
    "30. Create a nested set (hint: use frozenset)."
   ]
  },
  {
   "cell_type": "code",
   "execution_count": 33,
   "id": "f448f91d-845f-44e7-9b19-1d517ab82537",
   "metadata": {},
   "outputs": [
    {
     "name": "stdout",
     "output_type": "stream",
     "text": [
      "{frozenset({3, 4}), frozenset({1, 2})}\n"
     ]
    }
   ],
   "source": [
    "nested_set = {frozenset({1, 2}), frozenset({3, 4})}\n",
    "print(nested_set)"
   ]
  },
  {
   "cell_type": "markdown",
   "id": "4cd28846-eedf-4c7b-a6f5-dcd39edf84c9",
   "metadata": {},
   "source": [
    "31. Remove an element from a set using the discard method."
   ]
  },
  {
   "cell_type": "code",
   "execution_count": 34,
   "id": "546f62e1-ee83-46ce-9b8a-9fc94369ec46",
   "metadata": {},
   "outputs": [
    {
     "name": "stdout",
     "output_type": "stream",
     "text": [
      "{4, 5}\n"
     ]
    }
   ],
   "source": [
    "my_set.discard(3)  \n",
    "print(my_set)"
   ]
  },
  {
   "cell_type": "markdown",
   "id": "14074e2e-ef48-440d-9ee6-e016020e207e",
   "metadata": {},
   "source": [
    "32. Compare two sets."
   ]
  },
  {
   "cell_type": "code",
   "execution_count": 38,
   "id": "069f9b6e-e1f6-420c-987a-fd953c7a2f64",
   "metadata": {},
   "outputs": [
    {
     "name": "stdout",
     "output_type": "stream",
     "text": [
      "False\n",
      "False\n",
      "False\n"
     ]
    }
   ],
   "source": [
    "set1 = {1, 2, 3}\n",
    "set2 = {2, 3, 4}\n",
    "\n",
    "equal = set1 == set2\n",
    "subset = set1 <= set2\n",
    "superset = set1 >= set2\n",
    "print(equal)\n",
    "print(subset)\n",
    "print(superset)"
   ]
  },
  {
   "cell_type": "markdown",
   "id": "2268002e-fe04-4f9e-b8e1-3c3aed6ddbbe",
   "metadata": {},
   "source": [
    "33. Create a set from a string."
   ]
  },
  {
   "cell_type": "code",
   "execution_count": 39,
   "id": "f79dcc89-78c7-45b5-9585-d31203cc7f31",
   "metadata": {},
   "outputs": [
    {
     "name": "stdout",
     "output_type": "stream",
     "text": [
      "{'h', 'e', 'o', 'l'}\n"
     ]
    }
   ],
   "source": [
    "my_string = \"hello\"\n",
    "char_set = set(my_string)\n",
    "print(char_set)"
   ]
  },
  {
   "cell_type": "markdown",
   "id": "3fc2952b-27e6-4a78-a6df-6ada442703ac",
   "metadata": {},
   "source": [
    "34. Convert a set of strings to a set of integers."
   ]
  },
  {
   "cell_type": "code",
   "execution_count": 40,
   "id": "a3c8a6be-a1e5-4536-aed7-a507fcdfb2ec",
   "metadata": {},
   "outputs": [
    {
     "name": "stdout",
     "output_type": "stream",
     "text": [
      "{1, 2, 3}\n"
     ]
    }
   ],
   "source": [
    "string_set = {\"1\", \"2\", \"3\"}\n",
    "int_set = {int(x) for x in string_set}\n",
    "print(int_set)"
   ]
  },
  {
   "cell_type": "markdown",
   "id": "59e228c2-2097-4b05-aa12-d49307d33196",
   "metadata": {},
   "source": [
    "35. Convert a set of integers to a set of strings."
   ]
  },
  {
   "cell_type": "code",
   "execution_count": 41,
   "id": "3a28be8b-d98c-4867-bc82-a8c776f21cd9",
   "metadata": {},
   "outputs": [
    {
     "name": "stdout",
     "output_type": "stream",
     "text": [
      "{'2', '1', '3'}\n"
     ]
    }
   ],
   "source": [
    "int_set = {1, 2, 3}\n",
    "string_set = {str(x) for x in int_set}\n",
    "print(string_set)"
   ]
  },
  {
   "cell_type": "markdown",
   "id": "6afbc3c1-0cf8-4fc0-b4a0-525dba5eb87c",
   "metadata": {},
   "source": [
    "36. Create a set from a tuple."
   ]
  },
  {
   "cell_type": "code",
   "execution_count": 42,
   "id": "f06b4602-d8cf-464f-b9a3-10de02cc1055",
   "metadata": {},
   "outputs": [
    {
     "name": "stdout",
     "output_type": "stream",
     "text": [
      "{1, 2, 3}\n"
     ]
    }
   ],
   "source": [
    "my_tuple = (1, 2, 3)\n",
    "tuple_set = set(my_tuple)\n",
    "print(tuple_set)"
   ]
  },
  {
   "cell_type": "markdown",
   "id": "824a9233-7f1f-4c4b-958c-adbd9a395768",
   "metadata": {},
   "source": [
    "37. Convert a set to a tuple."
   ]
  },
  {
   "cell_type": "code",
   "execution_count": 43,
   "id": "8f303b1d-760c-4bcc-988a-413b9d00217b",
   "metadata": {},
   "outputs": [
    {
     "name": "stdout",
     "output_type": "stream",
     "text": [
      "(1, 2, 3)\n"
     ]
    }
   ],
   "source": [
    "my_set = {1, 2, 3}\n",
    "set_tuple = tuple(my_set)\n",
    "print(set_tuple)"
   ]
  },
  {
   "cell_type": "markdown",
   "id": "a8636af1-e94f-4f0f-996d-7e5c3702b84e",
   "metadata": {},
   "source": [
    "38. Find the maximum value in a set."
   ]
  },
  {
   "cell_type": "code",
   "execution_count": 44,
   "id": "b9a7540d-327c-4e27-ba3b-765cfea300d3",
   "metadata": {},
   "outputs": [
    {
     "name": "stdout",
     "output_type": "stream",
     "text": [
      "3\n"
     ]
    }
   ],
   "source": [
    "max_value = max(my_set)\n",
    "print(max_value)"
   ]
  },
  {
   "cell_type": "markdown",
   "id": "01108bd7-d329-4c27-abf0-4f516ceeea4d",
   "metadata": {},
   "source": [
    "39. Find the minimum value in a set."
   ]
  },
  {
   "cell_type": "code",
   "execution_count": 46,
   "id": "603c07fa-b357-44cc-bd63-849ed066bf81",
   "metadata": {},
   "outputs": [
    {
     "name": "stdout",
     "output_type": "stream",
     "text": [
      "1\n"
     ]
    }
   ],
   "source": [
    "min_value = min(my_set)\n",
    "print(min_value)"
   ]
  },
  {
   "cell_type": "markdown",
   "id": "36f1d928-c815-4e57-9a4d-b259d21cce45",
   "metadata": {},
   "source": [
    "40. Create a set from user input."
   ]
  },
  {
   "cell_type": "code",
   "execution_count": 47,
   "id": "52b62681-9821-495a-9932-14415300bc18",
   "metadata": {},
   "outputs": [
    {
     "name": "stdin",
     "output_type": "stream",
     "text": [
      "Enter elements separated by spaces:  1 2 3 4 5\n"
     ]
    },
    {
     "name": "stdout",
     "output_type": "stream",
     "text": [
      "{'4', '2', '3', '5', '1'}\n"
     ]
    }
   ],
   "source": [
    "user_input = input(\"Enter elements separated by spaces: \")\n",
    "user_set = set(user_input.split())\n",
    "print(user_set)"
   ]
  },
  {
   "cell_type": "markdown",
   "id": "c8aa0afd-0543-4652-a95e-e34593515275",
   "metadata": {},
   "source": [
    "41. Check if the intersection of two sets is empty."
   ]
  },
  {
   "cell_type": "code",
   "execution_count": 48,
   "id": "cf805d38-1b44-4b2e-b708-9bd4c7c0d917",
   "metadata": {},
   "outputs": [
    {
     "name": "stdout",
     "output_type": "stream",
     "text": [
      "False\n"
     ]
    }
   ],
   "source": [
    "is_empty_intersection = set1.isdisjoint(set2)\n",
    "print(is_empty_intersection)"
   ]
  },
  {
   "cell_type": "markdown",
   "id": "22313fd7-651f-48a9-b123-6769462747de",
   "metadata": {},
   "source": [
    "42. Create a set of the first 5 Fibonacci numbers."
   ]
  },
  {
   "cell_type": "code",
   "execution_count": 49,
   "id": "72d491ef-5e99-495c-897c-424fa33905c1",
   "metadata": {},
   "outputs": [
    {
     "name": "stdout",
     "output_type": "stream",
     "text": [
      "{0, 1, 2, 3}\n"
     ]
    }
   ],
   "source": [
    "fibonacci_set = {0, 1, 1, 2, 3}\n",
    "print(fibonacci_set)"
   ]
  },
  {
   "cell_type": "markdown",
   "id": "750a6b7c-5856-4ce7-8e35-4bf231077a0f",
   "metadata": {},
   "source": [
    "43. Remove duplicates from a list using sets."
   ]
  },
  {
   "cell_type": "code",
   "execution_count": 50,
   "id": "220acee6-93aa-469a-8bdc-5cd92cf5c324",
   "metadata": {},
   "outputs": [
    {
     "name": "stdout",
     "output_type": "stream",
     "text": [
      "[1, 2, 3, 4]\n"
     ]
    }
   ],
   "source": [
    "my_list = [1, 2, 2, 3, 3, 4]\n",
    "unique_set = set(my_list)\n",
    "unique_list = list(unique_set)\n",
    "print(unique_list)"
   ]
  },
  {
   "cell_type": "markdown",
   "id": "0a216f73-8489-40f3-8c64-ed4fa9640f93",
   "metadata": {},
   "source": [
    "44. Check if two sets have the same elements, regardless of their count."
   ]
  },
  {
   "cell_type": "code",
   "execution_count": 51,
   "id": "f7bb1f82-00a3-4682-92f6-4743a1195501",
   "metadata": {},
   "outputs": [
    {
     "name": "stdout",
     "output_type": "stream",
     "text": [
      "False\n"
     ]
    }
   ],
   "source": [
    "same_elements = len(set1.symmetric_difference(set2)) == 0\n",
    "print(same_elements)"
   ]
  },
  {
   "cell_type": "markdown",
   "id": "1e4df0ec-a6de-4fda-8d1c-3b6d979117bc",
   "metadata": {},
   "source": [
    "45. Create a set of the first `n` powers of 2."
   ]
  },
  {
   "cell_type": "code",
   "execution_count": 53,
   "id": "e21d5408-dfb9-46fc-9219-5a3de2d11697",
   "metadata": {},
   "outputs": [
    {
     "name": "stdout",
     "output_type": "stream",
     "text": [
      "{1, 2, 4, 8, 16}\n"
     ]
    }
   ],
   "source": [
    "n = 5\n",
    "powers_of_2 = {2**i for i in range(n)}\n",
    "print(powers_of_2)"
   ]
  },
  {
   "cell_type": "markdown",
   "id": "db5ee000-7876-46a2-9b34-3e572ab95312",
   "metadata": {},
   "source": [
    "46. Find the common elements between a set and a list."
   ]
  },
  {
   "cell_type": "code",
   "execution_count": 54,
   "id": "2c310547-7fb8-41c4-ac6e-cc7fddbe21a9",
   "metadata": {},
   "outputs": [
    {
     "name": "stdout",
     "output_type": "stream",
     "text": [
      "{1, 2, 3}\n"
     ]
    }
   ],
   "source": [
    "common_elements = my_set & set(my_list)\n",
    "print(common_elements)"
   ]
  },
  {
   "cell_type": "markdown",
   "id": "8f2c5543-2fdc-450f-92f9-437f8afc6397",
   "metadata": {},
   "source": [
    "47. Create a set of the first `n` triangular"
   ]
  },
  {
   "cell_type": "code",
   "execution_count": 55,
   "id": "8196d1bd-51ec-449a-90c0-bdb5394ec475",
   "metadata": {},
   "outputs": [
    {
     "name": "stdout",
     "output_type": "stream",
     "text": [
      "{1, 3, 6, 10, 15}\n"
     ]
    }
   ],
   "source": [
    "def triangular_number(n):\n",
    "    return n * (n + 1) // 2\n",
    "\n",
    "n = 5\n",
    "triangular_numbers = {triangular_number(i) for i in range(1, n + 1)}\n",
    "print(triangular_numbers)"
   ]
  },
  {
   "cell_type": "markdown",
   "id": "e7865adf-d5b6-4cba-b4c8-78f8222db57d",
   "metadata": {},
   "source": [
    "48. Check if a set contains another set as a subset."
   ]
  },
  {
   "cell_type": "code",
   "execution_count": 56,
   "id": "e138797b-477e-4bdd-ac92-6c9197fa2975",
   "metadata": {},
   "outputs": [
    {
     "name": "stdout",
     "output_type": "stream",
     "text": [
      "True\n"
     ]
    }
   ],
   "source": [
    "set1 = {1, 2, 3}\n",
    "set2 = {2, 3}\n",
    "is_subset = set2.issubset(set1)  \n",
    "print(is_subset)"
   ]
  },
  {
   "cell_type": "markdown",
   "id": "8d1a4b36-845c-4617-8c95-bb833036244f",
   "metadata": {},
   "source": [
    "49. Create a set of alternating 1s and 0s of length `n`."
   ]
  },
  {
   "cell_type": "code",
   "execution_count": 57,
   "id": "ec0b3b7c-91ab-4c80-8765-8213e6231ca8",
   "metadata": {},
   "outputs": [
    {
     "name": "stdout",
     "output_type": "stream",
     "text": [
      "{0, 1}\n"
     ]
    }
   ],
   "source": [
    "n = 6\n",
    "alternating_set = {1 if i % 2 == 0 else 0 for i in range(n)}\n",
    "print(alternating_set)"
   ]
  },
  {
   "cell_type": "markdown",
   "id": "b5b77a07-fa4a-4e3e-a8de-aed9674a799d",
   "metadata": {},
   "source": [
    "50. Merge multiple sets into one."
   ]
  },
  {
   "cell_type": "code",
   "execution_count": 58,
   "id": "4a9ae26b-7fb4-4184-ad69-adc3a5399404",
   "metadata": {},
   "outputs": [
    {
     "name": "stdout",
     "output_type": "stream",
     "text": [
      "{1, 2, 3, 4, 5, 6, 7}\n"
     ]
    }
   ],
   "source": [
    "set_a = {1, 2, 3}\n",
    "set_b = {3, 4, 5}\n",
    "set_c = {5, 6, 7}\n",
    "merged_set = set_a | set_b | set_c\n",
    "print(merged_set)"
   ]
  },
  {
   "cell_type": "code",
   "execution_count": null,
   "id": "a969d321-dc63-4bb6-9f81-383ad68161f7",
   "metadata": {},
   "outputs": [],
   "source": []
  }
 ],
 "metadata": {
  "kernelspec": {
   "display_name": "Python 3 (ipykernel)",
   "language": "python",
   "name": "python3"
  },
  "language_info": {
   "codemirror_mode": {
    "name": "ipython",
    "version": 3
   },
   "file_extension": ".py",
   "mimetype": "text/x-python",
   "name": "python",
   "nbconvert_exporter": "python",
   "pygments_lexer": "ipython3",
   "version": "3.10.8"
  }
 },
 "nbformat": 4,
 "nbformat_minor": 5
}
